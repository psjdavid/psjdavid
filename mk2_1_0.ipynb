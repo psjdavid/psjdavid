{
  "nbformat": 4,
  "nbformat_minor": 0,
  "metadata": {
    "colab": {
      "provenance": [],
      "gpuType": "T4",
      "authorship_tag": "ABX9TyM6toW2Rh/hTzrHRsvl/1la",
      "include_colab_link": true
    },
    "kernelspec": {
      "name": "python3",
      "display_name": "Python 3"
    },
    "language_info": {
      "name": "python"
    },
    "accelerator": "GPU"
  },
  "cells": [
    {
      "cell_type": "markdown",
      "metadata": {
        "id": "view-in-github",
        "colab_type": "text"
      },
      "source": [
        "<a href=\"https://colab.research.google.com/github/psjdavid/psjdavid/blob/main/mk2_1_0.ipynb\" target=\"_parent\"><img src=\"https://colab.research.google.com/assets/colab-badge.svg\" alt=\"Open In Colab\"/></a>"
      ]
    },
    {
      "cell_type": "code",
      "execution_count": null,
      "metadata": {
        "colab": {
          "base_uri": "https://localhost:8080/"
        },
        "id": "jBO1Mvec2cV-",
        "outputId": "29cd6578-0643-4f0f-9145-b8c6c8ede833"
      },
      "outputs": [
        {
          "output_type": "stream",
          "name": "stdout",
          "text": [
            "CUDA 사용 가능: True\n",
            "GPU 모델: Tesla T4\n",
            "GPU 개수: 1\n"
          ]
        }
      ],
      "source": [
        "#0.0722453828\n",
        "import os\n",
        "import pandas as pd\n",
        "from PIL import Image\n",
        "import numpy as np\n",
        "import torch\n",
        "import torch.nn as nn\n",
        "import torch.optim as optim\n",
        "from torch.utils.data import DataLoader, SubsetRandomSampler\n",
        "from torchvision import datasets, models, transforms\n",
        "import albumentations as A\n",
        "from albumentations.pytorch import ToTensorV2\n",
        "from sklearn.metrics import confusion_matrix\n",
        "import seaborn as sns\n",
        "import matplotlib.pyplot as plt\n",
        "from tqdm import tqdm\n",
        "from torch.amp import autocast\n",
        "from torch.cuda.amp import GradScaler\n",
        "from torch.optim.lr_scheduler import ReduceLROnPlateau\n",
        "import torchvision.models as models\n",
        "\n",
        "# GPU 확인 및 설정\n",
        "print(f\"CUDA 사용 가능: {torch.cuda.is_available()}\")\n",
        "if torch.cuda.is_available():\n",
        "    print(f\"GPU 모델: {torch.cuda.get_device_name(0)}\")\n",
        "    print(f\"GPU 개수: {torch.cuda.device_count()}\")\n",
        "    # GPU 성능 최적화\n",
        "    torch.backends.cudnn.benchmark = True\n",
        "else:\n",
        "    print(\"GPU를 사용할 수 없습니다. 런타임 유형을 GPU로 변경해주세요.\")"
      ]
    },
    {
      "cell_type": "code",
      "source": [
        "from google.colab import drive\n",
        "drive.mount('/content/drive', force_remount=True)"
      ],
      "metadata": {
        "colab": {
          "base_uri": "https://localhost:8080/"
        },
        "id": "0XDNYF1M3K77",
        "outputId": "a0fcf9e9-08a2-4c31-9c09-3a4ae21edc0e"
      },
      "execution_count": null,
      "outputs": [
        {
          "output_type": "stream",
          "name": "stdout",
          "text": [
            "Mounted at /content/drive\n"
          ]
        }
      ]
    },
    {
      "cell_type": "code",
      "source": [
        "# 디바이스 설정\n",
        "device = torch.device(\"cuda\" if torch.cuda.is_available() else \"cpu\")\n",
        "print(f\"Using device: {device}\")\n",
        "\n",
        "# 데이터 경로\n",
        "base_path = '/content/drive/MyDrive/open'\n",
        "train_path = os.path.join(base_path, 'train')\n",
        "test_path = os.path.join(base_path, 'test')\n",
        "test_csv_path = os.path.join(base_path, 'test.csv')\n",
        "\n",
        "# 테스트 변환\n",
        "test_transform = A.Compose([\n",
        "    A.Resize(224, 224),\n",
        "    A.Normalize(mean=[0.485, 0.456, 0.406], std=[0.229, 0.224, 0.225]),\n",
        "    ToTensorV2()\n",
        "])"
      ],
      "metadata": {
        "colab": {
          "base_uri": "https://localhost:8080/"
        },
        "id": "4w-ExoG33MK_",
        "outputId": "37adbdd4-7ed8-4c9d-c6dd-5856407c7609"
      },
      "execution_count": null,
      "outputs": [
        {
          "output_type": "stream",
          "name": "stdout",
          "text": [
            "Using device: cuda\n"
          ]
        }
      ]
    },
    {
      "cell_type": "code",
      "source": [
        "# 2. 테스트 데이터셋 클래스\n",
        "class TestDataset(torch.utils.data.Dataset):\n",
        "    def __init__(self, image_paths, ids, transform=None):\n",
        "        self.image_paths = image_paths\n",
        "        self.ids = ids\n",
        "        self.transform = transform\n",
        "\n",
        "    def __len__(self):\n",
        "        return len(self.image_paths)\n",
        "\n",
        "    def __getitem__(self, idx):\n",
        "        try:\n",
        "            image = Image.open(self.image_paths[idx]).convert('RGB')\n",
        "            image = np.array(image)\n",
        "            if self.transform:\n",
        "                augmented = self.transform(image=image)\n",
        "                image = augmented['image']\n",
        "            return image, self.ids[idx]\n",
        "        except Exception as e:\n",
        "            print(f\"Error loading image {self.image_paths[idx]}: {e}\")\n",
        "            # 오류 발생 시 빈 이미지 반환\n",
        "            dummy_image = torch.zeros((3, 224, 224))\n",
        "            return dummy_image, self.ids[idx]"
      ],
      "metadata": {
        "id": "jjyqStY7QmFC"
      },
      "execution_count": null,
      "outputs": []
    },
    {
      "cell_type": "code",
      "source": [
        "train_path = os.path.join(base_path, 'train')\n",
        "import torchvision.transforms as transforms\n",
        "#from torch.utils.data import datasets\n",
        "train_dataset = datasets.ImageFolder(train_path, transform=transforms.ToTensor())\n",
        "class_names = train_dataset.classes\n",
        "num_classes = len(class_names)\n",
        "print(f\"Number of classes: {num_classes}\")\n",
        "print(f\"Class names: {class_names}\")"
      ],
      "metadata": {
        "colab": {
          "base_uri": "https://localhost:8080/"
        },
        "id": "DL85Fg5DQ3Kl",
        "outputId": "8709ea59-6a63-4e14-d1de-08947e127671"
      },
      "execution_count": null,
      "outputs": [
        {
          "output_type": "stream",
          "name": "stdout",
          "text": [
            "Number of classes: 7\n",
            "Class names: ['Andesite', 'Basalt', 'Etc', 'Gneiss', 'Granite', 'Mud_Sandstone', 'Weathered_Rock']\n"
          ]
        }
      ]
    },
    {
      "cell_type": "code",
      "source": [
        "# 4. 모델 로드\n",
        "model = models.mobilenet_v3_small(weights=None)\n",
        "model.classifier[3] = nn.Linear(in_features=1024, out_features=num_classes)\n",
        "model = model.to(device)\n",
        "model.load_state_dict(torch.load('/content/drive/MyDrive/open/best_model.pth', map_location=device))\n",
        "model.eval()\n",
        "print(\"Best model loaded successfully.\")"
      ],
      "metadata": {
        "colab": {
          "base_uri": "https://localhost:8080/"
        },
        "id": "wamquVZvQ-jk",
        "outputId": "f4e0540a-697e-4e64-abfa-df80ffdbfc74"
      },
      "execution_count": null,
      "outputs": [
        {
          "output_type": "stream",
          "name": "stdout",
          "text": [
            "Best model loaded successfully.\n"
          ]
        }
      ]
    },
    {
      "cell_type": "code",
      "source": [
        "# 5. 배치 처리 함수\n",
        "def process_batch(batch_df, batch_idx, save_path):\n",
        "    print(f\"Processing batch {batch_idx} with {len(batch_df)} images...\")\n",
        "\n",
        "    # 현재 배치의 이미지 경로 생성\n",
        "    batch_image_paths = [os.path.join(test_path, f\"{row['ID']}.jpg\")\n",
        "                         for _, row in batch_df.iterrows()]\n",
        "    batch_ids = batch_df['ID'].tolist()\n",
        "\n",
        "    # 현재 배치에 대한 데이터셋 및 로더 생성\n",
        "    batch_dataset = TestDataset(batch_image_paths, batch_ids, transform=test_transform)\n",
        "    batch_loader = DataLoader(\n",
        "        batch_dataset,\n",
        "        batch_size=32,\n",
        "        shuffle=False,\n",
        "        num_workers=0,  # 단일 프로세스로 처리\n",
        "        pin_memory=True\n",
        "    )\n",
        "\n",
        "    # 현재 배치에 대한 예측 수행\n",
        "    predictions = []\n",
        "    ids = []\n",
        "    probs_list = []\n",
        "\n",
        "    with torch.no_grad():\n",
        "        for images, batch_ids in tqdm(batch_loader, desc=f\"Batch {batch_idx}\"):\n",
        "            images = images.to(device)\n",
        "            try:\n",
        "                with autocast(device_type='cuda'):\n",
        "                    outputs = model(images)\n",
        "\n",
        "                # 확률 계산\n",
        "                probs = torch.nn.functional.softmax(outputs, dim=1)\n",
        "                probs_list.extend(probs.cpu().numpy())\n",
        "\n",
        "                # 예측 클래스\n",
        "                _, predicted = torch.max(outputs, 1)\n",
        "                predictions.extend(predicted.cpu().numpy())\n",
        "                ids.extend(batch_ids)\n",
        "            except Exception as e:\n",
        "                print(f\"Error in prediction: {e}\")\n",
        "                # 오류 발생 시 기본값 설정\n",
        "                dummy_preds = [0] * len(batch_ids)\n",
        "                dummy_probs = [[1.0/num_classes] * num_classes] * len(batch_ids)\n",
        "                predictions.extend(dummy_preds)\n",
        "                probs_list.extend(dummy_probs)\n",
        "                ids.extend(batch_ids)\n",
        "\n",
        "    # 결과 데이터프레임 생성\n",
        "    pred_labels = [class_names[pred] for pred in predictions]\n",
        "    result_df = pd.DataFrame({\n",
        "        'ID': ids,\n",
        "        'label': pred_labels\n",
        "    })\n",
        "\n",
        "    # 클래스별 확률 열 추가\n",
        "    for i, cls in enumerate(class_names):\n",
        "        result_df[f'prob_{cls}'] = [probs[i] for probs in probs_list]\n",
        "\n",
        "    # 결과 저장\n",
        "    result_path = os.path.join(save_path, f'predictions_batch_{batch_idx}.csv')\n",
        "    result_df.to_csv(result_path, index=False)\n",
        "    print(f\"Batch {batch_idx} results saved to {result_path}\")\n",
        "\n",
        "    return result_df"
      ],
      "metadata": {
        "id": "IisVBTcKRB20"
      },
      "execution_count": null,
      "outputs": []
    },
    {
      "cell_type": "code",
      "source": [
        "# 6. 메인 처리 함수\n",
        "def process_test_data(batch_size=500):\n",
        "    # 결과 저장 경로\n",
        "    results_dir = os.path.join(base_path, 'batch_results')\n",
        "    os.makedirs(results_dir, exist_ok=True)\n",
        "\n",
        "    # 테스트 CSV 로드\n",
        "    test_df = pd.read_csv(test_csv_path)\n",
        "    print(f\"Loaded test CSV with {len(test_df)} entries\")\n",
        "\n",
        "    # 배치 수 계산\n",
        "    num_batches = (len(test_df) + batch_size - 1) // batch_size\n",
        "    all_results = []\n",
        "\n",
        "    # 각 배치 처리\n",
        "    for i in range(num_batches):\n",
        "        start_idx = i * batch_size\n",
        "        end_idx = min((i + 1) * batch_size, len(test_df))\n",
        "        batch_df = test_df.iloc[start_idx:end_idx]\n",
        "\n",
        "        # 배치 처리 및 결과 저장\n",
        "        batch_result = process_batch(batch_df, i, results_dir)\n",
        "        all_results.append(batch_result)\n",
        "\n",
        "        print(f\"Completed batch {i+1}/{num_batches}\")\n",
        "\n",
        "    # 모든 결과 합치기\n",
        "    if all_results:\n",
        "        final_df = pd.concat(all_results, ignore_index=True)\n",
        "        final_path = os.path.join(base_path, 'test_predictions_all.csv')\n",
        "        final_df.to_csv(final_path, index=False)\n",
        "        print(f\"All predictions combined and saved to {final_path}\")\n",
        "\n",
        "        # 제출용 간소화 버전 (ID와 label만)\n",
        "        submission_df = final_df[['ID', 'label']]\n",
        "        submission_path = os.path.join(base_path, 'submission.csv')\n",
        "        submission_df.to_csv(submission_path, index=False)\n",
        "        print(f\"Submission file saved to {submission_path}\")\n",
        "    else:\n",
        "        print(\"No results were generated.\")"
      ],
      "metadata": {
        "id": "jsheOZ-ZRIH2"
      },
      "execution_count": null,
      "outputs": []
    },
    {
      "cell_type": "code",
      "source": [
        "# 7. 실행\n",
        "\n",
        "if __name__ == \"__main__\":\n",
        "    # 배치 크기 설정 (필요에 따라 조정)\n",
        "    process_test_data(batch_size=64)"
      ],
      "metadata": {
        "colab": {
          "base_uri": "https://localhost:8080/"
        },
        "id": "0hksyVEkRNd5",
        "outputId": "a5b45d95-c279-41ad-ca81-f3d735f25b7c"
      },
      "execution_count": null,
      "outputs": [
        {
          "output_type": "stream",
          "name": "stdout",
          "text": [
            "Loaded test CSV with 95006 entries\n",
            "Processing batch 0 with 64 images...\n"
          ]
        },
        {
          "output_type": "stream",
          "name": "stderr",
          "text": [
            "Batch 0: 100%|██████████| 2/2 [00:00<00:00,  4.57it/s]\n"
          ]
        },
        {
          "output_type": "stream",
          "name": "stdout",
          "text": [
            "Batch 0 results saved to /content/drive/MyDrive/open/batch_results/predictions_batch_0.csv\n",
            "Completed batch 1/1485\n",
            "Processing batch 1 with 64 images...\n"
          ]
        },
        {
          "output_type": "stream",
          "name": "stderr",
          "text": [
            "Batch 1: 100%|██████████| 2/2 [00:00<00:00,  6.93it/s]\n"
          ]
        },
        {
          "output_type": "stream",
          "name": "stdout",
          "text": [
            "Batch 1 results saved to /content/drive/MyDrive/open/batch_results/predictions_batch_1.csv\n",
            "Completed batch 2/1485\n",
            "Processing batch 2 with 64 images...\n"
          ]
        },
        {
          "output_type": "stream",
          "name": "stderr",
          "text": [
            "Batch 2: 100%|██████████| 2/2 [00:00<00:00,  6.25it/s]\n"
          ]
        },
        {
          "output_type": "stream",
          "name": "stdout",
          "text": [
            "Batch 2 results saved to /content/drive/MyDrive/open/batch_results/predictions_batch_2.csv\n",
            "Completed batch 3/1485\n",
            "Processing batch 3 with 64 images...\n"
          ]
        },
        {
          "output_type": "stream",
          "name": "stderr",
          "text": [
            "Batch 3: 100%|██████████| 2/2 [00:00<00:00,  6.70it/s]\n"
          ]
        },
        {
          "output_type": "stream",
          "name": "stdout",
          "text": [
            "Batch 3 results saved to /content/drive/MyDrive/open/batch_results/predictions_batch_3.csv\n",
            "Completed batch 4/1485\n",
            "Processing batch 4 with 64 images...\n"
          ]
        },
        {
          "output_type": "stream",
          "name": "stderr",
          "text": [
            "Batch 4: 100%|██████████| 2/2 [00:00<00:00,  6.53it/s]\n"
          ]
        },
        {
          "output_type": "stream",
          "name": "stdout",
          "text": [
            "Batch 4 results saved to /content/drive/MyDrive/open/batch_results/predictions_batch_4.csv\n",
            "Completed batch 5/1485\n",
            "Processing batch 5 with 64 images...\n"
          ]
        },
        {
          "output_type": "stream",
          "name": "stderr",
          "text": [
            "Batch 5: 100%|██████████| 2/2 [00:00<00:00,  6.47it/s]\n"
          ]
        },
        {
          "output_type": "stream",
          "name": "stdout",
          "text": [
            "Batch 5 results saved to /content/drive/MyDrive/open/batch_results/predictions_batch_5.csv\n",
            "Completed batch 6/1485\n",
            "Processing batch 6 with 64 images...\n"
          ]
        },
        {
          "output_type": "stream",
          "name": "stderr",
          "text": [
            "Batch 6: 100%|██████████| 2/2 [00:19<00:00,  9.97s/it]\n"
          ]
        },
        {
          "output_type": "stream",
          "name": "stdout",
          "text": [
            "Batch 6 results saved to /content/drive/MyDrive/open/batch_results/predictions_batch_6.csv\n",
            "Completed batch 7/1485\n",
            "Processing batch 7 with 64 images...\n"
          ]
        },
        {
          "output_type": "stream",
          "name": "stderr",
          "text": [
            "Batch 7: 100%|██████████| 2/2 [00:48<00:00, 24.31s/it]\n"
          ]
        },
        {
          "output_type": "stream",
          "name": "stdout",
          "text": [
            "Batch 7 results saved to /content/drive/MyDrive/open/batch_results/predictions_batch_7.csv\n",
            "Completed batch 8/1485\n",
            "Processing batch 8 with 64 images...\n"
          ]
        },
        {
          "output_type": "stream",
          "name": "stderr",
          "text": [
            "Batch 8: 100%|██████████| 2/2 [00:48<00:00, 24.49s/it]\n"
          ]
        },
        {
          "output_type": "stream",
          "name": "stdout",
          "text": [
            "Batch 8 results saved to /content/drive/MyDrive/open/batch_results/predictions_batch_8.csv\n",
            "Completed batch 9/1485\n",
            "Processing batch 9 with 64 images...\n"
          ]
        },
        {
          "output_type": "stream",
          "name": "stderr",
          "text": [
            "Batch 9: 100%|██████████| 2/2 [00:48<00:00, 24.19s/it]\n"
          ]
        },
        {
          "output_type": "stream",
          "name": "stdout",
          "text": [
            "Batch 9 results saved to /content/drive/MyDrive/open/batch_results/predictions_batch_9.csv\n",
            "Completed batch 10/1485\n",
            "Processing batch 10 with 64 images...\n"
          ]
        },
        {
          "output_type": "stream",
          "name": "stderr",
          "text": [
            "Batch 10: 100%|██████████| 2/2 [00:47<00:00, 23.84s/it]\n"
          ]
        },
        {
          "output_type": "stream",
          "name": "stdout",
          "text": [
            "Batch 10 results saved to /content/drive/MyDrive/open/batch_results/predictions_batch_10.csv\n",
            "Completed batch 11/1485\n",
            "Processing batch 11 with 64 images...\n"
          ]
        },
        {
          "output_type": "stream",
          "name": "stderr",
          "text": [
            "Batch 11: 100%|██████████| 2/2 [00:52<00:00, 26.23s/it]\n"
          ]
        },
        {
          "output_type": "stream",
          "name": "stdout",
          "text": [
            "Batch 11 results saved to /content/drive/MyDrive/open/batch_results/predictions_batch_11.csv\n",
            "Completed batch 12/1485\n",
            "Processing batch 12 with 64 images...\n"
          ]
        },
        {
          "output_type": "stream",
          "name": "stderr",
          "text": [
            "Batch 12: 100%|██████████| 2/2 [00:49<00:00, 24.71s/it]\n"
          ]
        },
        {
          "output_type": "stream",
          "name": "stdout",
          "text": [
            "Batch 12 results saved to /content/drive/MyDrive/open/batch_results/predictions_batch_12.csv\n",
            "Completed batch 13/1485\n",
            "Processing batch 13 with 64 images...\n"
          ]
        },
        {
          "output_type": "stream",
          "name": "stderr",
          "text": [
            "Batch 13: 100%|██████████| 2/2 [00:49<00:00, 24.53s/it]\n"
          ]
        },
        {
          "output_type": "stream",
          "name": "stdout",
          "text": [
            "Batch 13 results saved to /content/drive/MyDrive/open/batch_results/predictions_batch_13.csv\n",
            "Completed batch 14/1485\n",
            "Processing batch 14 with 64 images...\n"
          ]
        },
        {
          "output_type": "stream",
          "name": "stderr",
          "text": [
            "Batch 14: 100%|██████████| 2/2 [00:49<00:00, 24.70s/it]\n"
          ]
        },
        {
          "output_type": "stream",
          "name": "stdout",
          "text": [
            "Batch 14 results saved to /content/drive/MyDrive/open/batch_results/predictions_batch_14.csv\n",
            "Completed batch 15/1485\n",
            "Processing batch 15 with 64 images...\n"
          ]
        },
        {
          "output_type": "stream",
          "name": "stderr",
          "text": [
            "Batch 15: 100%|██████████| 2/2 [00:48<00:00, 24.31s/it]\n"
          ]
        },
        {
          "output_type": "stream",
          "name": "stdout",
          "text": [
            "Batch 15 results saved to /content/drive/MyDrive/open/batch_results/predictions_batch_15.csv\n",
            "Completed batch 16/1485\n",
            "Processing batch 16 with 64 images...\n"
          ]
        },
        {
          "output_type": "stream",
          "name": "stderr",
          "text": [
            "Batch 16: 100%|██████████| 2/2 [00:48<00:00, 24.22s/it]\n"
          ]
        },
        {
          "output_type": "stream",
          "name": "stdout",
          "text": [
            "Batch 16 results saved to /content/drive/MyDrive/open/batch_results/predictions_batch_16.csv\n",
            "Completed batch 17/1485\n",
            "Processing batch 17 with 64 images...\n"
          ]
        },
        {
          "output_type": "stream",
          "name": "stderr",
          "text": [
            "Batch 17: 100%|██████████| 2/2 [00:47<00:00, 23.92s/it]\n"
          ]
        },
        {
          "output_type": "stream",
          "name": "stdout",
          "text": [
            "Batch 17 results saved to /content/drive/MyDrive/open/batch_results/predictions_batch_17.csv\n",
            "Completed batch 18/1485\n",
            "Processing batch 18 with 64 images...\n"
          ]
        },
        {
          "output_type": "stream",
          "name": "stderr",
          "text": [
            "Batch 18: 100%|██████████| 2/2 [00:50<00:00, 25.06s/it]\n"
          ]
        },
        {
          "output_type": "stream",
          "name": "stdout",
          "text": [
            "Batch 18 results saved to /content/drive/MyDrive/open/batch_results/predictions_batch_18.csv\n",
            "Completed batch 19/1485\n",
            "Processing batch 19 with 64 images...\n"
          ]
        },
        {
          "output_type": "stream",
          "name": "stderr",
          "text": [
            "Batch 19: 100%|██████████| 2/2 [00:49<00:00, 24.80s/it]\n"
          ]
        },
        {
          "output_type": "stream",
          "name": "stdout",
          "text": [
            "Batch 19 results saved to /content/drive/MyDrive/open/batch_results/predictions_batch_19.csv\n",
            "Completed batch 20/1485\n",
            "Processing batch 20 with 64 images...\n"
          ]
        },
        {
          "output_type": "stream",
          "name": "stderr",
          "text": [
            "Batch 20: 100%|██████████| 2/2 [00:50<00:00, 25.35s/it]\n"
          ]
        },
        {
          "output_type": "stream",
          "name": "stdout",
          "text": [
            "Batch 20 results saved to /content/drive/MyDrive/open/batch_results/predictions_batch_20.csv\n",
            "Completed batch 21/1485\n",
            "Processing batch 21 with 64 images...\n"
          ]
        },
        {
          "output_type": "stream",
          "name": "stderr",
          "text": [
            "Batch 21: 100%|██████████| 2/2 [00:51<00:00, 25.68s/it]\n"
          ]
        },
        {
          "output_type": "stream",
          "name": "stdout",
          "text": [
            "Batch 21 results saved to /content/drive/MyDrive/open/batch_results/predictions_batch_21.csv\n",
            "Completed batch 22/1485\n",
            "Processing batch 22 with 64 images...\n"
          ]
        },
        {
          "output_type": "stream",
          "name": "stderr",
          "text": [
            "Batch 22: 100%|██████████| 2/2 [00:52<00:00, 26.25s/it]\n"
          ]
        },
        {
          "output_type": "stream",
          "name": "stdout",
          "text": [
            "Batch 22 results saved to /content/drive/MyDrive/open/batch_results/predictions_batch_22.csv\n",
            "Completed batch 23/1485\n",
            "Processing batch 23 with 64 images...\n"
          ]
        },
        {
          "output_type": "stream",
          "name": "stderr",
          "text": [
            "Batch 23: 100%|██████████| 2/2 [00:50<00:00, 25.24s/it]\n"
          ]
        },
        {
          "output_type": "stream",
          "name": "stdout",
          "text": [
            "Batch 23 results saved to /content/drive/MyDrive/open/batch_results/predictions_batch_23.csv\n",
            "Completed batch 24/1485\n",
            "Processing batch 24 with 64 images...\n"
          ]
        },
        {
          "output_type": "stream",
          "name": "stderr",
          "text": [
            "Batch 24: 100%|██████████| 2/2 [00:48<00:00, 24.34s/it]\n"
          ]
        },
        {
          "output_type": "stream",
          "name": "stdout",
          "text": [
            "Batch 24 results saved to /content/drive/MyDrive/open/batch_results/predictions_batch_24.csv\n",
            "Completed batch 25/1485\n",
            "Processing batch 25 with 64 images...\n"
          ]
        },
        {
          "output_type": "stream",
          "name": "stderr",
          "text": [
            "Batch 25: 100%|██████████| 2/2 [00:50<00:00, 25.42s/it]\n"
          ]
        },
        {
          "output_type": "stream",
          "name": "stdout",
          "text": [
            "Batch 25 results saved to /content/drive/MyDrive/open/batch_results/predictions_batch_25.csv\n",
            "Completed batch 26/1485\n",
            "Processing batch 26 with 64 images...\n"
          ]
        },
        {
          "output_type": "stream",
          "name": "stderr",
          "text": [
            "Batch 26: 100%|██████████| 2/2 [00:49<00:00, 24.52s/it]\n"
          ]
        },
        {
          "output_type": "stream",
          "name": "stdout",
          "text": [
            "Batch 26 results saved to /content/drive/MyDrive/open/batch_results/predictions_batch_26.csv\n",
            "Completed batch 27/1485\n",
            "Processing batch 27 with 64 images...\n"
          ]
        },
        {
          "output_type": "stream",
          "name": "stderr",
          "text": [
            "Batch 27: 100%|██████████| 2/2 [00:49<00:00, 24.92s/it]\n"
          ]
        },
        {
          "output_type": "stream",
          "name": "stdout",
          "text": [
            "Batch 27 results saved to /content/drive/MyDrive/open/batch_results/predictions_batch_27.csv\n",
            "Completed batch 28/1485\n",
            "Processing batch 28 with 64 images...\n"
          ]
        },
        {
          "output_type": "stream",
          "name": "stderr",
          "text": [
            "Batch 28: 100%|██████████| 2/2 [00:49<00:00, 24.62s/it]\n"
          ]
        },
        {
          "output_type": "stream",
          "name": "stdout",
          "text": [
            "Batch 28 results saved to /content/drive/MyDrive/open/batch_results/predictions_batch_28.csv\n",
            "Completed batch 29/1485\n",
            "Processing batch 29 with 64 images...\n"
          ]
        },
        {
          "output_type": "stream",
          "name": "stderr",
          "text": [
            "Batch 29: 100%|██████████| 2/2 [00:51<00:00, 25.96s/it]\n"
          ]
        },
        {
          "output_type": "stream",
          "name": "stdout",
          "text": [
            "Batch 29 results saved to /content/drive/MyDrive/open/batch_results/predictions_batch_29.csv\n",
            "Completed batch 30/1485\n",
            "Processing batch 30 with 64 images...\n"
          ]
        },
        {
          "output_type": "stream",
          "name": "stderr",
          "text": [
            "Batch 30: 100%|██████████| 2/2 [00:48<00:00, 24.45s/it]\n"
          ]
        },
        {
          "output_type": "stream",
          "name": "stdout",
          "text": [
            "Batch 30 results saved to /content/drive/MyDrive/open/batch_results/predictions_batch_30.csv\n",
            "Completed batch 31/1485\n",
            "Processing batch 31 with 64 images...\n"
          ]
        },
        {
          "output_type": "stream",
          "name": "stderr",
          "text": [
            "Batch 31: 100%|██████████| 2/2 [00:46<00:00, 23.45s/it]\n"
          ]
        },
        {
          "output_type": "stream",
          "name": "stdout",
          "text": [
            "Batch 31 results saved to /content/drive/MyDrive/open/batch_results/predictions_batch_31.csv\n",
            "Completed batch 32/1485\n",
            "Processing batch 32 with 64 images...\n"
          ]
        },
        {
          "output_type": "stream",
          "name": "stderr",
          "text": [
            "Batch 32: 100%|██████████| 2/2 [00:48<00:00, 24.41s/it]\n"
          ]
        },
        {
          "output_type": "stream",
          "name": "stdout",
          "text": [
            "Batch 32 results saved to /content/drive/MyDrive/open/batch_results/predictions_batch_32.csv\n",
            "Completed batch 33/1485\n",
            "Processing batch 33 with 64 images...\n"
          ]
        },
        {
          "output_type": "stream",
          "name": "stderr",
          "text": [
            "Batch 33: 100%|██████████| 2/2 [00:47<00:00, 23.91s/it]\n"
          ]
        },
        {
          "output_type": "stream",
          "name": "stdout",
          "text": [
            "Batch 33 results saved to /content/drive/MyDrive/open/batch_results/predictions_batch_33.csv\n",
            "Completed batch 34/1485\n",
            "Processing batch 34 with 64 images...\n"
          ]
        },
        {
          "output_type": "stream",
          "name": "stderr",
          "text": [
            "Batch 34: 100%|██████████| 2/2 [00:49<00:00, 24.54s/it]\n"
          ]
        },
        {
          "output_type": "stream",
          "name": "stdout",
          "text": [
            "Batch 34 results saved to /content/drive/MyDrive/open/batch_results/predictions_batch_34.csv\n",
            "Completed batch 35/1485\n",
            "Processing batch 35 with 64 images...\n"
          ]
        },
        {
          "output_type": "stream",
          "name": "stderr",
          "text": [
            "Batch 35: 100%|██████████| 2/2 [00:50<00:00, 25.20s/it]\n"
          ]
        },
        {
          "output_type": "stream",
          "name": "stdout",
          "text": [
            "Batch 35 results saved to /content/drive/MyDrive/open/batch_results/predictions_batch_35.csv\n",
            "Completed batch 36/1485\n",
            "Processing batch 36 with 64 images...\n"
          ]
        },
        {
          "output_type": "stream",
          "name": "stderr",
          "text": [
            "Batch 36: 100%|██████████| 2/2 [00:51<00:00, 25.89s/it]\n"
          ]
        },
        {
          "output_type": "stream",
          "name": "stdout",
          "text": [
            "Batch 36 results saved to /content/drive/MyDrive/open/batch_results/predictions_batch_36.csv\n",
            "Completed batch 37/1485\n",
            "Processing batch 37 with 64 images...\n"
          ]
        },
        {
          "output_type": "stream",
          "name": "stderr",
          "text": [
            "Batch 37: 100%|██████████| 2/2 [00:52<00:00, 26.02s/it]\n"
          ]
        },
        {
          "output_type": "stream",
          "name": "stdout",
          "text": [
            "Batch 37 results saved to /content/drive/MyDrive/open/batch_results/predictions_batch_37.csv\n",
            "Completed batch 38/1485\n",
            "Processing batch 38 with 64 images...\n"
          ]
        },
        {
          "output_type": "stream",
          "name": "stderr",
          "text": [
            "Batch 38: 100%|██████████| 2/2 [00:51<00:00, 25.99s/it]\n"
          ]
        },
        {
          "output_type": "stream",
          "name": "stdout",
          "text": [
            "Batch 38 results saved to /content/drive/MyDrive/open/batch_results/predictions_batch_38.csv\n",
            "Completed batch 39/1485\n",
            "Processing batch 39 with 64 images...\n"
          ]
        },
        {
          "output_type": "stream",
          "name": "stderr",
          "text": [
            "Batch 39: 100%|██████████| 2/2 [00:51<00:00, 25.91s/it]\n"
          ]
        },
        {
          "output_type": "stream",
          "name": "stdout",
          "text": [
            "Batch 39 results saved to /content/drive/MyDrive/open/batch_results/predictions_batch_39.csv\n",
            "Completed batch 40/1485\n",
            "Processing batch 40 with 64 images...\n"
          ]
        },
        {
          "output_type": "stream",
          "name": "stderr",
          "text": [
            "Batch 40: 100%|██████████| 2/2 [00:48<00:00, 24.29s/it]\n"
          ]
        },
        {
          "output_type": "stream",
          "name": "stdout",
          "text": [
            "Batch 40 results saved to /content/drive/MyDrive/open/batch_results/predictions_batch_40.csv\n",
            "Completed batch 41/1485\n",
            "Processing batch 41 with 64 images...\n"
          ]
        },
        {
          "output_type": "stream",
          "name": "stderr",
          "text": [
            "Batch 41: 100%|██████████| 2/2 [00:48<00:00, 24.01s/it]\n"
          ]
        },
        {
          "output_type": "stream",
          "name": "stdout",
          "text": [
            "Batch 41 results saved to /content/drive/MyDrive/open/batch_results/predictions_batch_41.csv\n",
            "Completed batch 42/1485\n",
            "Processing batch 42 with 64 images...\n"
          ]
        },
        {
          "output_type": "stream",
          "name": "stderr",
          "text": [
            "Batch 42: 100%|██████████| 2/2 [00:50<00:00, 25.31s/it]\n"
          ]
        },
        {
          "output_type": "stream",
          "name": "stdout",
          "text": [
            "Batch 42 results saved to /content/drive/MyDrive/open/batch_results/predictions_batch_42.csv\n",
            "Completed batch 43/1485\n",
            "Processing batch 43 with 64 images...\n"
          ]
        },
        {
          "output_type": "stream",
          "name": "stderr",
          "text": [
            "Batch 43: 100%|██████████| 2/2 [00:47<00:00, 23.77s/it]\n"
          ]
        },
        {
          "output_type": "stream",
          "name": "stdout",
          "text": [
            "Batch 43 results saved to /content/drive/MyDrive/open/batch_results/predictions_batch_43.csv\n",
            "Completed batch 44/1485\n",
            "Processing batch 44 with 64 images...\n"
          ]
        },
        {
          "output_type": "stream",
          "name": "stderr",
          "text": [
            "Batch 44: 100%|██████████| 2/2 [00:51<00:00, 25.66s/it]\n"
          ]
        },
        {
          "output_type": "stream",
          "name": "stdout",
          "text": [
            "Batch 44 results saved to /content/drive/MyDrive/open/batch_results/predictions_batch_44.csv\n",
            "Completed batch 45/1485\n",
            "Processing batch 45 with 64 images...\n"
          ]
        },
        {
          "output_type": "stream",
          "name": "stderr",
          "text": [
            "Batch 45: 100%|██████████| 2/2 [00:51<00:00, 25.84s/it]\n"
          ]
        },
        {
          "output_type": "stream",
          "name": "stdout",
          "text": [
            "Batch 45 results saved to /content/drive/MyDrive/open/batch_results/predictions_batch_45.csv\n",
            "Completed batch 46/1485\n",
            "Processing batch 46 with 64 images...\n"
          ]
        },
        {
          "output_type": "stream",
          "name": "stderr",
          "text": [
            "Batch 46: 100%|██████████| 2/2 [00:51<00:00, 25.51s/it]\n"
          ]
        },
        {
          "output_type": "stream",
          "name": "stdout",
          "text": [
            "Batch 46 results saved to /content/drive/MyDrive/open/batch_results/predictions_batch_46.csv\n",
            "Completed batch 47/1485\n",
            "Processing batch 47 with 64 images...\n"
          ]
        },
        {
          "output_type": "stream",
          "name": "stderr",
          "text": [
            "Batch 47: 100%|██████████| 2/2 [00:53<00:00, 26.53s/it]\n"
          ]
        },
        {
          "output_type": "stream",
          "name": "stdout",
          "text": [
            "Batch 47 results saved to /content/drive/MyDrive/open/batch_results/predictions_batch_47.csv\n",
            "Completed batch 48/1485\n",
            "Processing batch 48 with 64 images...\n"
          ]
        },
        {
          "output_type": "stream",
          "name": "stderr",
          "text": [
            "Batch 48: 100%|██████████| 2/2 [00:49<00:00, 24.87s/it]\n"
          ]
        },
        {
          "output_type": "stream",
          "name": "stdout",
          "text": [
            "Batch 48 results saved to /content/drive/MyDrive/open/batch_results/predictions_batch_48.csv\n",
            "Completed batch 49/1485\n",
            "Processing batch 49 with 64 images...\n"
          ]
        },
        {
          "output_type": "stream",
          "name": "stderr",
          "text": [
            "Batch 49: 100%|██████████| 2/2 [00:50<00:00, 25.10s/it]\n"
          ]
        },
        {
          "output_type": "stream",
          "name": "stdout",
          "text": [
            "Batch 49 results saved to /content/drive/MyDrive/open/batch_results/predictions_batch_49.csv\n",
            "Completed batch 50/1485\n",
            "Processing batch 50 with 64 images...\n"
          ]
        },
        {
          "output_type": "stream",
          "name": "stderr",
          "text": [
            "Batch 50: 100%|██████████| 2/2 [00:54<00:00, 27.19s/it]\n"
          ]
        },
        {
          "output_type": "stream",
          "name": "stdout",
          "text": [
            "Batch 50 results saved to /content/drive/MyDrive/open/batch_results/predictions_batch_50.csv\n",
            "Completed batch 51/1485\n",
            "Processing batch 51 with 64 images...\n"
          ]
        },
        {
          "output_type": "stream",
          "name": "stderr",
          "text": [
            "Batch 51: 100%|██████████| 2/2 [00:51<00:00, 25.77s/it]\n"
          ]
        },
        {
          "output_type": "stream",
          "name": "stdout",
          "text": [
            "Batch 51 results saved to /content/drive/MyDrive/open/batch_results/predictions_batch_51.csv\n",
            "Completed batch 52/1485\n",
            "Processing batch 52 with 64 images...\n"
          ]
        },
        {
          "output_type": "stream",
          "name": "stderr",
          "text": [
            "Batch 52: 100%|██████████| 2/2 [00:48<00:00, 24.31s/it]\n"
          ]
        },
        {
          "output_type": "stream",
          "name": "stdout",
          "text": [
            "Batch 52 results saved to /content/drive/MyDrive/open/batch_results/predictions_batch_52.csv\n",
            "Completed batch 53/1485\n",
            "Processing batch 53 with 64 images...\n"
          ]
        },
        {
          "output_type": "stream",
          "name": "stderr",
          "text": [
            "Batch 53: 100%|██████████| 2/2 [00:47<00:00, 23.83s/it]\n"
          ]
        },
        {
          "output_type": "stream",
          "name": "stdout",
          "text": [
            "Batch 53 results saved to /content/drive/MyDrive/open/batch_results/predictions_batch_53.csv\n",
            "Completed batch 54/1485\n",
            "Processing batch 54 with 64 images...\n"
          ]
        },
        {
          "output_type": "stream",
          "name": "stderr",
          "text": [
            "Batch 54: 100%|██████████| 2/2 [00:49<00:00, 24.76s/it]\n"
          ]
        },
        {
          "output_type": "stream",
          "name": "stdout",
          "text": [
            "Batch 54 results saved to /content/drive/MyDrive/open/batch_results/predictions_batch_54.csv\n",
            "Completed batch 55/1485\n",
            "Processing batch 55 with 64 images...\n"
          ]
        },
        {
          "output_type": "stream",
          "name": "stderr",
          "text": [
            "Batch 55: 100%|██████████| 2/2 [00:47<00:00, 23.86s/it]\n"
          ]
        },
        {
          "output_type": "stream",
          "name": "stdout",
          "text": [
            "Batch 55 results saved to /content/drive/MyDrive/open/batch_results/predictions_batch_55.csv\n",
            "Completed batch 56/1485\n",
            "Processing batch 56 with 64 images...\n"
          ]
        },
        {
          "output_type": "stream",
          "name": "stderr",
          "text": [
            "Batch 56: 100%|██████████| 2/2 [00:49<00:00, 24.88s/it]\n"
          ]
        },
        {
          "output_type": "stream",
          "name": "stdout",
          "text": [
            "Batch 56 results saved to /content/drive/MyDrive/open/batch_results/predictions_batch_56.csv\n",
            "Completed batch 57/1485\n",
            "Processing batch 57 with 64 images...\n"
          ]
        },
        {
          "output_type": "stream",
          "name": "stderr",
          "text": [
            "Batch 57: 100%|██████████| 2/2 [00:52<00:00, 26.17s/it]\n"
          ]
        },
        {
          "output_type": "stream",
          "name": "stdout",
          "text": [
            "Batch 57 results saved to /content/drive/MyDrive/open/batch_results/predictions_batch_57.csv\n",
            "Completed batch 58/1485\n",
            "Processing batch 58 with 64 images...\n"
          ]
        },
        {
          "output_type": "stream",
          "name": "stderr",
          "text": [
            "Batch 58: 100%|██████████| 2/2 [00:46<00:00, 23.19s/it]\n"
          ]
        },
        {
          "output_type": "stream",
          "name": "stdout",
          "text": [
            "Batch 58 results saved to /content/drive/MyDrive/open/batch_results/predictions_batch_58.csv\n",
            "Completed batch 59/1485\n",
            "Processing batch 59 with 64 images...\n"
          ]
        },
        {
          "output_type": "stream",
          "name": "stderr",
          "text": [
            "Batch 59: 100%|██████████| 2/2 [00:50<00:00, 25.26s/it]\n"
          ]
        },
        {
          "output_type": "stream",
          "name": "stdout",
          "text": [
            "Batch 59 results saved to /content/drive/MyDrive/open/batch_results/predictions_batch_59.csv\n",
            "Completed batch 60/1485\n",
            "Processing batch 60 with 64 images...\n"
          ]
        },
        {
          "output_type": "stream",
          "name": "stderr",
          "text": [
            "Batch 60: 100%|██████████| 2/2 [00:50<00:00, 25.12s/it]\n"
          ]
        },
        {
          "output_type": "stream",
          "name": "stdout",
          "text": [
            "Batch 60 results saved to /content/drive/MyDrive/open/batch_results/predictions_batch_60.csv\n",
            "Completed batch 61/1485\n",
            "Processing batch 61 with 64 images...\n"
          ]
        },
        {
          "output_type": "stream",
          "name": "stderr",
          "text": [
            "Batch 61: 100%|██████████| 2/2 [00:49<00:00, 24.84s/it]\n"
          ]
        },
        {
          "output_type": "stream",
          "name": "stdout",
          "text": [
            "Batch 61 results saved to /content/drive/MyDrive/open/batch_results/predictions_batch_61.csv\n",
            "Completed batch 62/1485\n",
            "Processing batch 62 with 64 images...\n"
          ]
        },
        {
          "output_type": "stream",
          "name": "stderr",
          "text": [
            "Batch 62: 100%|██████████| 2/2 [00:47<00:00, 23.62s/it]\n"
          ]
        },
        {
          "output_type": "stream",
          "name": "stdout",
          "text": [
            "Batch 62 results saved to /content/drive/MyDrive/open/batch_results/predictions_batch_62.csv\n",
            "Completed batch 63/1485\n",
            "Processing batch 63 with 64 images...\n"
          ]
        },
        {
          "output_type": "stream",
          "name": "stderr",
          "text": [
            "Batch 63: 100%|██████████| 2/2 [00:46<00:00, 23.10s/it]\n"
          ]
        },
        {
          "output_type": "stream",
          "name": "stdout",
          "text": [
            "Batch 63 results saved to /content/drive/MyDrive/open/batch_results/predictions_batch_63.csv\n",
            "Completed batch 64/1485\n",
            "Processing batch 64 with 64 images...\n"
          ]
        },
        {
          "output_type": "stream",
          "name": "stderr",
          "text": [
            "Batch 64: 100%|██████████| 2/2 [00:53<00:00, 26.76s/it]\n"
          ]
        },
        {
          "output_type": "stream",
          "name": "stdout",
          "text": [
            "Batch 64 results saved to /content/drive/MyDrive/open/batch_results/predictions_batch_64.csv\n",
            "Completed batch 65/1485\n",
            "Processing batch 65 with 64 images...\n"
          ]
        },
        {
          "output_type": "stream",
          "name": "stderr",
          "text": [
            "Batch 65: 100%|██████████| 2/2 [00:49<00:00, 24.64s/it]\n"
          ]
        },
        {
          "output_type": "stream",
          "name": "stdout",
          "text": [
            "Batch 65 results saved to /content/drive/MyDrive/open/batch_results/predictions_batch_65.csv\n",
            "Completed batch 66/1485\n",
            "Processing batch 66 with 64 images...\n"
          ]
        },
        {
          "output_type": "stream",
          "name": "stderr",
          "text": [
            "Batch 66: 100%|██████████| 2/2 [00:47<00:00, 23.92s/it]\n"
          ]
        },
        {
          "output_type": "stream",
          "name": "stdout",
          "text": [
            "Batch 66 results saved to /content/drive/MyDrive/open/batch_results/predictions_batch_66.csv\n",
            "Completed batch 67/1485\n",
            "Processing batch 67 with 64 images...\n"
          ]
        },
        {
          "output_type": "stream",
          "name": "stderr",
          "text": [
            "Batch 67: 100%|██████████| 2/2 [00:52<00:00, 26.11s/it]\n"
          ]
        },
        {
          "output_type": "stream",
          "name": "stdout",
          "text": [
            "Batch 67 results saved to /content/drive/MyDrive/open/batch_results/predictions_batch_67.csv\n",
            "Completed batch 68/1485\n",
            "Processing batch 68 with 64 images...\n"
          ]
        },
        {
          "output_type": "stream",
          "name": "stderr",
          "text": [
            "Batch 68: 100%|██████████| 2/2 [00:48<00:00, 24.38s/it]\n"
          ]
        },
        {
          "output_type": "stream",
          "name": "stdout",
          "text": [
            "Batch 68 results saved to /content/drive/MyDrive/open/batch_results/predictions_batch_68.csv\n",
            "Completed batch 69/1485\n",
            "Processing batch 69 with 64 images...\n"
          ]
        },
        {
          "output_type": "stream",
          "name": "stderr",
          "text": [
            "Batch 69: 100%|██████████| 2/2 [00:51<00:00, 25.52s/it]\n"
          ]
        },
        {
          "output_type": "stream",
          "name": "stdout",
          "text": [
            "Batch 69 results saved to /content/drive/MyDrive/open/batch_results/predictions_batch_69.csv\n",
            "Completed batch 70/1485\n",
            "Processing batch 70 with 64 images...\n"
          ]
        },
        {
          "output_type": "stream",
          "name": "stderr",
          "text": [
            "Batch 70: 100%|██████████| 2/2 [00:51<00:00, 25.86s/it]\n"
          ]
        },
        {
          "output_type": "stream",
          "name": "stdout",
          "text": [
            "Batch 70 results saved to /content/drive/MyDrive/open/batch_results/predictions_batch_70.csv\n",
            "Completed batch 71/1485\n",
            "Processing batch 71 with 64 images...\n"
          ]
        },
        {
          "output_type": "stream",
          "name": "stderr",
          "text": [
            "Batch 71: 100%|██████████| 2/2 [00:51<00:00, 25.82s/it]\n"
          ]
        },
        {
          "output_type": "stream",
          "name": "stdout",
          "text": [
            "Batch 71 results saved to /content/drive/MyDrive/open/batch_results/predictions_batch_71.csv\n",
            "Completed batch 72/1485\n",
            "Processing batch 72 with 64 images...\n"
          ]
        },
        {
          "output_type": "stream",
          "name": "stderr",
          "text": [
            "Batch 72: 100%|██████████| 2/2 [00:51<00:00, 25.61s/it]\n"
          ]
        },
        {
          "output_type": "stream",
          "name": "stdout",
          "text": [
            "Batch 72 results saved to /content/drive/MyDrive/open/batch_results/predictions_batch_72.csv\n",
            "Completed batch 73/1485\n",
            "Processing batch 73 with 64 images...\n"
          ]
        },
        {
          "output_type": "stream",
          "name": "stderr",
          "text": [
            "Batch 73: 100%|██████████| 2/2 [00:49<00:00, 24.87s/it]\n"
          ]
        },
        {
          "output_type": "stream",
          "name": "stdout",
          "text": [
            "Batch 73 results saved to /content/drive/MyDrive/open/batch_results/predictions_batch_73.csv\n",
            "Completed batch 74/1485\n",
            "Processing batch 74 with 64 images...\n"
          ]
        },
        {
          "output_type": "stream",
          "name": "stderr",
          "text": [
            "Batch 74: 100%|██████████| 2/2 [00:51<00:00, 25.51s/it]\n"
          ]
        },
        {
          "output_type": "stream",
          "name": "stdout",
          "text": [
            "Batch 74 results saved to /content/drive/MyDrive/open/batch_results/predictions_batch_74.csv\n",
            "Completed batch 75/1485\n",
            "Processing batch 75 with 64 images...\n"
          ]
        },
        {
          "output_type": "stream",
          "name": "stderr",
          "text": [
            "Batch 75: 100%|██████████| 2/2 [00:51<00:00, 25.72s/it]\n"
          ]
        },
        {
          "output_type": "stream",
          "name": "stdout",
          "text": [
            "Batch 75 results saved to /content/drive/MyDrive/open/batch_results/predictions_batch_75.csv\n",
            "Completed batch 76/1485\n",
            "Processing batch 76 with 64 images...\n"
          ]
        },
        {
          "output_type": "stream",
          "name": "stderr",
          "text": [
            "Batch 76: 100%|██████████| 2/2 [00:49<00:00, 24.83s/it]\n"
          ]
        },
        {
          "output_type": "stream",
          "name": "stdout",
          "text": [
            "Batch 76 results saved to /content/drive/MyDrive/open/batch_results/predictions_batch_76.csv\n",
            "Completed batch 77/1485\n",
            "Processing batch 77 with 64 images...\n"
          ]
        },
        {
          "output_type": "stream",
          "name": "stderr",
          "text": [
            "Batch 77: 100%|██████████| 2/2 [00:49<00:00, 24.85s/it]\n"
          ]
        },
        {
          "output_type": "stream",
          "name": "stdout",
          "text": [
            "Batch 77 results saved to /content/drive/MyDrive/open/batch_results/predictions_batch_77.csv\n",
            "Completed batch 78/1485\n",
            "Processing batch 78 with 64 images...\n"
          ]
        },
        {
          "output_type": "stream",
          "name": "stderr",
          "text": [
            "Batch 78: 100%|██████████| 2/2 [00:48<00:00, 24.39s/it]\n"
          ]
        },
        {
          "output_type": "stream",
          "name": "stdout",
          "text": [
            "Batch 78 results saved to /content/drive/MyDrive/open/batch_results/predictions_batch_78.csv\n",
            "Completed batch 79/1485\n",
            "Processing batch 79 with 64 images...\n"
          ]
        },
        {
          "output_type": "stream",
          "name": "stderr",
          "text": [
            "Batch 79: 100%|██████████| 2/2 [00:47<00:00, 23.69s/it]\n"
          ]
        },
        {
          "output_type": "stream",
          "name": "stdout",
          "text": [
            "Batch 79 results saved to /content/drive/MyDrive/open/batch_results/predictions_batch_79.csv\n",
            "Completed batch 80/1485\n",
            "Processing batch 80 with 64 images...\n"
          ]
        },
        {
          "output_type": "stream",
          "name": "stderr",
          "text": [
            "Batch 80: 100%|██████████| 2/2 [00:52<00:00, 26.27s/it]\n"
          ]
        },
        {
          "output_type": "stream",
          "name": "stdout",
          "text": [
            "Batch 80 results saved to /content/drive/MyDrive/open/batch_results/predictions_batch_80.csv\n",
            "Completed batch 81/1485\n",
            "Processing batch 81 with 64 images...\n"
          ]
        },
        {
          "output_type": "stream",
          "name": "stderr",
          "text": [
            "Batch 81: 100%|██████████| 2/2 [00:51<00:00, 25.61s/it]\n"
          ]
        },
        {
          "output_type": "stream",
          "name": "stdout",
          "text": [
            "Batch 81 results saved to /content/drive/MyDrive/open/batch_results/predictions_batch_81.csv\n",
            "Completed batch 82/1485\n",
            "Processing batch 82 with 64 images...\n"
          ]
        },
        {
          "output_type": "stream",
          "name": "stderr",
          "text": [
            "Batch 82: 100%|██████████| 2/2 [00:45<00:00, 22.70s/it]\n"
          ]
        },
        {
          "output_type": "stream",
          "name": "stdout",
          "text": [
            "Batch 82 results saved to /content/drive/MyDrive/open/batch_results/predictions_batch_82.csv\n",
            "Completed batch 83/1485\n",
            "Processing batch 83 with 64 images...\n"
          ]
        },
        {
          "output_type": "stream",
          "name": "stderr",
          "text": [
            "Batch 83: 100%|██████████| 2/2 [00:49<00:00, 24.88s/it]\n"
          ]
        },
        {
          "output_type": "stream",
          "name": "stdout",
          "text": [
            "Batch 83 results saved to /content/drive/MyDrive/open/batch_results/predictions_batch_83.csv\n",
            "Completed batch 84/1485\n",
            "Processing batch 84 with 64 images...\n"
          ]
        },
        {
          "output_type": "stream",
          "name": "stderr",
          "text": [
            "Batch 84: 100%|██████████| 2/2 [00:52<00:00, 26.28s/it]\n"
          ]
        },
        {
          "output_type": "stream",
          "name": "stdout",
          "text": [
            "Batch 84 results saved to /content/drive/MyDrive/open/batch_results/predictions_batch_84.csv\n",
            "Completed batch 85/1485\n",
            "Processing batch 85 with 64 images...\n"
          ]
        },
        {
          "output_type": "stream",
          "name": "stderr",
          "text": [
            "Batch 85: 100%|██████████| 2/2 [00:49<00:00, 24.93s/it]\n"
          ]
        },
        {
          "output_type": "stream",
          "name": "stdout",
          "text": [
            "Batch 85 results saved to /content/drive/MyDrive/open/batch_results/predictions_batch_85.csv\n",
            "Completed batch 86/1485\n",
            "Processing batch 86 with 64 images...\n"
          ]
        },
        {
          "output_type": "stream",
          "name": "stderr",
          "text": [
            "Batch 86: 100%|██████████| 2/2 [00:47<00:00, 23.77s/it]\n"
          ]
        },
        {
          "output_type": "stream",
          "name": "stdout",
          "text": [
            "Batch 86 results saved to /content/drive/MyDrive/open/batch_results/predictions_batch_86.csv\n",
            "Completed batch 87/1485\n",
            "Processing batch 87 with 64 images...\n"
          ]
        },
        {
          "output_type": "stream",
          "name": "stderr",
          "text": [
            "Batch 87: 100%|██████████| 2/2 [00:48<00:00, 24.01s/it]\n"
          ]
        },
        {
          "output_type": "stream",
          "name": "stdout",
          "text": [
            "Batch 87 results saved to /content/drive/MyDrive/open/batch_results/predictions_batch_87.csv\n",
            "Completed batch 88/1485\n",
            "Processing batch 88 with 64 images...\n"
          ]
        },
        {
          "output_type": "stream",
          "name": "stderr",
          "text": [
            "Batch 88: 100%|██████████| 2/2 [00:51<00:00, 25.73s/it]\n"
          ]
        },
        {
          "output_type": "stream",
          "name": "stdout",
          "text": [
            "Batch 88 results saved to /content/drive/MyDrive/open/batch_results/predictions_batch_88.csv\n",
            "Completed batch 89/1485\n",
            "Processing batch 89 with 64 images...\n"
          ]
        },
        {
          "output_type": "stream",
          "name": "stderr",
          "text": [
            "Batch 89: 100%|██████████| 2/2 [00:47<00:00, 23.70s/it]\n"
          ]
        },
        {
          "output_type": "stream",
          "name": "stdout",
          "text": [
            "Batch 89 results saved to /content/drive/MyDrive/open/batch_results/predictions_batch_89.csv\n",
            "Completed batch 90/1485\n",
            "Processing batch 90 with 64 images...\n"
          ]
        },
        {
          "output_type": "stream",
          "name": "stderr",
          "text": [
            "Batch 90: 100%|██████████| 2/2 [00:50<00:00, 25.32s/it]\n"
          ]
        },
        {
          "output_type": "stream",
          "name": "stdout",
          "text": [
            "Batch 90 results saved to /content/drive/MyDrive/open/batch_results/predictions_batch_90.csv\n",
            "Completed batch 91/1485\n",
            "Processing batch 91 with 64 images...\n"
          ]
        },
        {
          "output_type": "stream",
          "name": "stderr",
          "text": [
            "Batch 91: 100%|██████████| 2/2 [00:49<00:00, 24.51s/it]\n"
          ]
        },
        {
          "output_type": "stream",
          "name": "stdout",
          "text": [
            "Batch 91 results saved to /content/drive/MyDrive/open/batch_results/predictions_batch_91.csv\n",
            "Completed batch 92/1485\n",
            "Processing batch 92 with 64 images...\n"
          ]
        },
        {
          "output_type": "stream",
          "name": "stderr",
          "text": [
            "Batch 92: 100%|██████████| 2/2 [00:48<00:00, 24.31s/it]\n"
          ]
        },
        {
          "output_type": "stream",
          "name": "stdout",
          "text": [
            "Batch 92 results saved to /content/drive/MyDrive/open/batch_results/predictions_batch_92.csv\n",
            "Completed batch 93/1485\n",
            "Processing batch 93 with 64 images...\n"
          ]
        },
        {
          "output_type": "stream",
          "name": "stderr",
          "text": [
            "Batch 93: 100%|██████████| 2/2 [00:49<00:00, 24.61s/it]\n"
          ]
        },
        {
          "output_type": "stream",
          "name": "stdout",
          "text": [
            "Batch 93 results saved to /content/drive/MyDrive/open/batch_results/predictions_batch_93.csv\n",
            "Completed batch 94/1485\n",
            "Processing batch 94 with 64 images...\n"
          ]
        },
        {
          "output_type": "stream",
          "name": "stderr",
          "text": [
            "Batch 94: 100%|██████████| 2/2 [00:49<00:00, 24.87s/it]\n"
          ]
        },
        {
          "output_type": "stream",
          "name": "stdout",
          "text": [
            "Batch 94 results saved to /content/drive/MyDrive/open/batch_results/predictions_batch_94.csv\n",
            "Completed batch 95/1485\n",
            "Processing batch 95 with 64 images...\n"
          ]
        },
        {
          "output_type": "stream",
          "name": "stderr",
          "text": [
            "Batch 95: 100%|██████████| 2/2 [00:47<00:00, 23.69s/it]\n"
          ]
        },
        {
          "output_type": "stream",
          "name": "stdout",
          "text": [
            "Batch 95 results saved to /content/drive/MyDrive/open/batch_results/predictions_batch_95.csv\n",
            "Completed batch 96/1485\n",
            "Processing batch 96 with 64 images...\n"
          ]
        },
        {
          "output_type": "stream",
          "name": "stderr",
          "text": [
            "Batch 96: 100%|██████████| 2/2 [00:45<00:00, 22.78s/it]\n"
          ]
        },
        {
          "output_type": "stream",
          "name": "stdout",
          "text": [
            "Batch 96 results saved to /content/drive/MyDrive/open/batch_results/predictions_batch_96.csv\n",
            "Completed batch 97/1485\n",
            "Processing batch 97 with 64 images...\n"
          ]
        },
        {
          "output_type": "stream",
          "name": "stderr",
          "text": [
            "Batch 97: 100%|██████████| 2/2 [00:48<00:00, 24.16s/it]\n"
          ]
        },
        {
          "output_type": "stream",
          "name": "stdout",
          "text": [
            "Batch 97 results saved to /content/drive/MyDrive/open/batch_results/predictions_batch_97.csv\n",
            "Completed batch 98/1485\n",
            "Processing batch 98 with 64 images...\n"
          ]
        },
        {
          "output_type": "stream",
          "name": "stderr",
          "text": [
            "Batch 98: 100%|██████████| 2/2 [00:49<00:00, 24.87s/it]\n"
          ]
        },
        {
          "output_type": "stream",
          "name": "stdout",
          "text": [
            "Batch 98 results saved to /content/drive/MyDrive/open/batch_results/predictions_batch_98.csv\n",
            "Completed batch 99/1485\n",
            "Processing batch 99 with 64 images...\n"
          ]
        },
        {
          "output_type": "stream",
          "name": "stderr",
          "text": [
            "Batch 99: 100%|██████████| 2/2 [00:52<00:00, 26.27s/it]\n"
          ]
        },
        {
          "output_type": "stream",
          "name": "stdout",
          "text": [
            "Batch 99 results saved to /content/drive/MyDrive/open/batch_results/predictions_batch_99.csv\n",
            "Completed batch 100/1485\n",
            "Processing batch 100 with 64 images...\n"
          ]
        },
        {
          "output_type": "stream",
          "name": "stderr",
          "text": [
            "Batch 100: 100%|██████████| 2/2 [00:51<00:00, 25.66s/it]\n"
          ]
        },
        {
          "output_type": "stream",
          "name": "stdout",
          "text": [
            "Batch 100 results saved to /content/drive/MyDrive/open/batch_results/predictions_batch_100.csv\n",
            "Completed batch 101/1485\n",
            "Processing batch 101 with 64 images...\n"
          ]
        },
        {
          "output_type": "stream",
          "name": "stderr",
          "text": [
            "Batch 101: 100%|██████████| 2/2 [00:46<00:00, 23.14s/it]\n"
          ]
        },
        {
          "output_type": "stream",
          "name": "stdout",
          "text": [
            "Batch 101 results saved to /content/drive/MyDrive/open/batch_results/predictions_batch_101.csv\n",
            "Completed batch 102/1485\n",
            "Processing batch 102 with 64 images...\n"
          ]
        },
        {
          "output_type": "stream",
          "name": "stderr",
          "text": [
            "Batch 102: 100%|██████████| 2/2 [00:48<00:00, 24.50s/it]\n"
          ]
        },
        {
          "output_type": "stream",
          "name": "stdout",
          "text": [
            "Batch 102 results saved to /content/drive/MyDrive/open/batch_results/predictions_batch_102.csv\n",
            "Completed batch 103/1485\n",
            "Processing batch 103 with 64 images...\n"
          ]
        },
        {
          "output_type": "stream",
          "name": "stderr",
          "text": [
            "Batch 103: 100%|██████████| 2/2 [00:49<00:00, 24.57s/it]\n"
          ]
        },
        {
          "output_type": "stream",
          "name": "stdout",
          "text": [
            "Batch 103 results saved to /content/drive/MyDrive/open/batch_results/predictions_batch_103.csv\n",
            "Completed batch 104/1485\n",
            "Processing batch 104 with 64 images...\n"
          ]
        },
        {
          "output_type": "stream",
          "name": "stderr",
          "text": [
            "Batch 104: 100%|██████████| 2/2 [00:51<00:00, 25.97s/it]\n"
          ]
        },
        {
          "output_type": "stream",
          "name": "stdout",
          "text": [
            "Batch 104 results saved to /content/drive/MyDrive/open/batch_results/predictions_batch_104.csv\n",
            "Completed batch 105/1485\n",
            "Processing batch 105 with 64 images...\n"
          ]
        },
        {
          "output_type": "stream",
          "name": "stderr",
          "text": [
            "Batch 105: 100%|██████████| 2/2 [00:47<00:00, 23.84s/it]\n"
          ]
        },
        {
          "output_type": "stream",
          "name": "stdout",
          "text": [
            "Batch 105 results saved to /content/drive/MyDrive/open/batch_results/predictions_batch_105.csv\n",
            "Completed batch 106/1485\n",
            "Processing batch 106 with 64 images...\n"
          ]
        },
        {
          "output_type": "stream",
          "name": "stderr",
          "text": [
            "Batch 106: 100%|██████████| 2/2 [00:50<00:00, 25.03s/it]\n"
          ]
        },
        {
          "output_type": "stream",
          "name": "stdout",
          "text": [
            "Batch 106 results saved to /content/drive/MyDrive/open/batch_results/predictions_batch_106.csv\n",
            "Completed batch 107/1485\n",
            "Processing batch 107 with 64 images...\n"
          ]
        },
        {
          "output_type": "stream",
          "name": "stderr",
          "text": [
            "Batch 107: 100%|██████████| 2/2 [00:49<00:00, 24.67s/it]\n"
          ]
        },
        {
          "output_type": "stream",
          "name": "stdout",
          "text": [
            "Batch 107 results saved to /content/drive/MyDrive/open/batch_results/predictions_batch_107.csv\n",
            "Completed batch 108/1485\n",
            "Processing batch 108 with 64 images...\n"
          ]
        },
        {
          "output_type": "stream",
          "name": "stderr",
          "text": [
            "Batch 108: 100%|██████████| 2/2 [00:50<00:00, 25.06s/it]\n"
          ]
        },
        {
          "output_type": "stream",
          "name": "stdout",
          "text": [
            "Batch 108 results saved to /content/drive/MyDrive/open/batch_results/predictions_batch_108.csv\n",
            "Completed batch 109/1485\n",
            "Processing batch 109 with 64 images...\n"
          ]
        },
        {
          "output_type": "stream",
          "name": "stderr",
          "text": [
            "Batch 109: 100%|██████████| 2/2 [00:48<00:00, 24.34s/it]\n"
          ]
        },
        {
          "output_type": "stream",
          "name": "stdout",
          "text": [
            "Batch 109 results saved to /content/drive/MyDrive/open/batch_results/predictions_batch_109.csv\n",
            "Completed batch 110/1485\n",
            "Processing batch 110 with 64 images...\n"
          ]
        },
        {
          "output_type": "stream",
          "name": "stderr",
          "text": [
            "Batch 110: 100%|██████████| 2/2 [00:47<00:00, 23.72s/it]\n"
          ]
        },
        {
          "output_type": "stream",
          "name": "stdout",
          "text": [
            "Batch 110 results saved to /content/drive/MyDrive/open/batch_results/predictions_batch_110.csv\n",
            "Completed batch 111/1485\n",
            "Processing batch 111 with 64 images...\n"
          ]
        },
        {
          "output_type": "stream",
          "name": "stderr",
          "text": [
            "Batch 111: 100%|██████████| 2/2 [00:54<00:00, 27.25s/it]\n"
          ]
        },
        {
          "output_type": "stream",
          "name": "stdout",
          "text": [
            "Batch 111 results saved to /content/drive/MyDrive/open/batch_results/predictions_batch_111.csv\n",
            "Completed batch 112/1485\n",
            "Processing batch 112 with 64 images...\n"
          ]
        },
        {
          "output_type": "stream",
          "name": "stderr",
          "text": [
            "Batch 112: 100%|██████████| 2/2 [00:52<00:00, 26.05s/it]\n"
          ]
        },
        {
          "output_type": "stream",
          "name": "stdout",
          "text": [
            "Batch 112 results saved to /content/drive/MyDrive/open/batch_results/predictions_batch_112.csv\n",
            "Completed batch 113/1485\n",
            "Processing batch 113 with 64 images...\n"
          ]
        },
        {
          "output_type": "stream",
          "name": "stderr",
          "text": [
            "Batch 113: 100%|██████████| 2/2 [00:49<00:00, 24.67s/it]\n"
          ]
        },
        {
          "output_type": "stream",
          "name": "stdout",
          "text": [
            "Batch 113 results saved to /content/drive/MyDrive/open/batch_results/predictions_batch_113.csv\n",
            "Completed batch 114/1485\n",
            "Processing batch 114 with 64 images...\n"
          ]
        },
        {
          "output_type": "stream",
          "name": "stderr",
          "text": [
            "Batch 114: 100%|██████████| 2/2 [00:51<00:00, 25.62s/it]\n"
          ]
        },
        {
          "output_type": "stream",
          "name": "stdout",
          "text": [
            "Batch 114 results saved to /content/drive/MyDrive/open/batch_results/predictions_batch_114.csv\n",
            "Completed batch 115/1485\n",
            "Processing batch 115 with 64 images...\n"
          ]
        },
        {
          "output_type": "stream",
          "name": "stderr",
          "text": [
            "Batch 115: 100%|██████████| 2/2 [00:50<00:00, 25.41s/it]\n"
          ]
        },
        {
          "output_type": "stream",
          "name": "stdout",
          "text": [
            "Batch 115 results saved to /content/drive/MyDrive/open/batch_results/predictions_batch_115.csv\n",
            "Completed batch 116/1485\n",
            "Processing batch 116 with 64 images...\n"
          ]
        },
        {
          "output_type": "stream",
          "name": "stderr",
          "text": [
            "Batch 116: 100%|██████████| 2/2 [00:48<00:00, 24.13s/it]\n"
          ]
        },
        {
          "output_type": "stream",
          "name": "stdout",
          "text": [
            "Batch 116 results saved to /content/drive/MyDrive/open/batch_results/predictions_batch_116.csv\n",
            "Completed batch 117/1485\n",
            "Processing batch 117 with 64 images...\n"
          ]
        },
        {
          "output_type": "stream",
          "name": "stderr",
          "text": [
            "Batch 117: 100%|██████████| 2/2 [00:47<00:00, 23.80s/it]\n"
          ]
        },
        {
          "output_type": "stream",
          "name": "stdout",
          "text": [
            "Batch 117 results saved to /content/drive/MyDrive/open/batch_results/predictions_batch_117.csv\n",
            "Completed batch 118/1485\n",
            "Processing batch 118 with 64 images...\n"
          ]
        },
        {
          "output_type": "stream",
          "name": "stderr",
          "text": [
            "Batch 118: 100%|██████████| 2/2 [00:49<00:00, 24.51s/it]\n"
          ]
        },
        {
          "output_type": "stream",
          "name": "stdout",
          "text": [
            "Batch 118 results saved to /content/drive/MyDrive/open/batch_results/predictions_batch_118.csv\n",
            "Completed batch 119/1485\n",
            "Processing batch 119 with 64 images...\n"
          ]
        },
        {
          "output_type": "stream",
          "name": "stderr",
          "text": [
            "Batch 119: 100%|██████████| 2/2 [00:50<00:00, 25.20s/it]\n"
          ]
        },
        {
          "output_type": "stream",
          "name": "stdout",
          "text": [
            "Batch 119 results saved to /content/drive/MyDrive/open/batch_results/predictions_batch_119.csv\n",
            "Completed batch 120/1485\n",
            "Processing batch 120 with 64 images...\n"
          ]
        },
        {
          "output_type": "stream",
          "name": "stderr",
          "text": [
            "Batch 120: 100%|██████████| 2/2 [00:50<00:00, 25.00s/it]\n"
          ]
        },
        {
          "output_type": "stream",
          "name": "stdout",
          "text": [
            "Batch 120 results saved to /content/drive/MyDrive/open/batch_results/predictions_batch_120.csv\n",
            "Completed batch 121/1485\n",
            "Processing batch 121 with 64 images...\n"
          ]
        },
        {
          "output_type": "stream",
          "name": "stderr",
          "text": [
            "Batch 121: 100%|██████████| 2/2 [00:55<00:00, 27.84s/it]\n"
          ]
        },
        {
          "output_type": "stream",
          "name": "stdout",
          "text": [
            "Batch 121 results saved to /content/drive/MyDrive/open/batch_results/predictions_batch_121.csv\n",
            "Completed batch 122/1485\n",
            "Processing batch 122 with 64 images...\n"
          ]
        },
        {
          "output_type": "stream",
          "name": "stderr",
          "text": [
            "Batch 122: 100%|██████████| 2/2 [00:48<00:00, 24.43s/it]\n"
          ]
        },
        {
          "output_type": "stream",
          "name": "stdout",
          "text": [
            "Batch 122 results saved to /content/drive/MyDrive/open/batch_results/predictions_batch_122.csv\n",
            "Completed batch 123/1485\n",
            "Processing batch 123 with 64 images...\n"
          ]
        },
        {
          "output_type": "stream",
          "name": "stderr",
          "text": [
            "Batch 123: 100%|██████████| 2/2 [00:48<00:00, 24.25s/it]\n"
          ]
        },
        {
          "output_type": "stream",
          "name": "stdout",
          "text": [
            "Batch 123 results saved to /content/drive/MyDrive/open/batch_results/predictions_batch_123.csv\n",
            "Completed batch 124/1485\n",
            "Processing batch 124 with 64 images...\n"
          ]
        },
        {
          "output_type": "stream",
          "name": "stderr",
          "text": [
            "Batch 124: 100%|██████████| 2/2 [00:51<00:00, 25.53s/it]\n"
          ]
        },
        {
          "output_type": "stream",
          "name": "stdout",
          "text": [
            "Batch 124 results saved to /content/drive/MyDrive/open/batch_results/predictions_batch_124.csv\n",
            "Completed batch 125/1485\n",
            "Processing batch 125 with 64 images...\n"
          ]
        },
        {
          "output_type": "stream",
          "name": "stderr",
          "text": [
            "Batch 125: 100%|██████████| 2/2 [00:54<00:00, 27.14s/it]\n"
          ]
        },
        {
          "output_type": "stream",
          "name": "stdout",
          "text": [
            "Batch 125 results saved to /content/drive/MyDrive/open/batch_results/predictions_batch_125.csv\n",
            "Completed batch 126/1485\n",
            "Processing batch 126 with 64 images...\n"
          ]
        },
        {
          "output_type": "stream",
          "name": "stderr",
          "text": [
            "Batch 126: 100%|██████████| 2/2 [00:49<00:00, 24.52s/it]\n"
          ]
        },
        {
          "output_type": "stream",
          "name": "stdout",
          "text": [
            "Batch 126 results saved to /content/drive/MyDrive/open/batch_results/predictions_batch_126.csv\n",
            "Completed batch 127/1485\n",
            "Processing batch 127 with 64 images...\n"
          ]
        },
        {
          "output_type": "stream",
          "name": "stderr",
          "text": [
            "Batch 127: 100%|██████████| 2/2 [00:52<00:00, 26.15s/it]\n"
          ]
        },
        {
          "output_type": "stream",
          "name": "stdout",
          "text": [
            "Batch 127 results saved to /content/drive/MyDrive/open/batch_results/predictions_batch_127.csv\n",
            "Completed batch 128/1485\n",
            "Processing batch 128 with 64 images...\n"
          ]
        },
        {
          "output_type": "stream",
          "name": "stderr",
          "text": [
            "Batch 128: 100%|██████████| 2/2 [01:00<00:00, 30.31s/it]\n"
          ]
        },
        {
          "output_type": "stream",
          "name": "stdout",
          "text": [
            "Batch 128 results saved to /content/drive/MyDrive/open/batch_results/predictions_batch_128.csv\n",
            "Completed batch 129/1485\n",
            "Processing batch 129 with 64 images...\n"
          ]
        },
        {
          "output_type": "stream",
          "name": "stderr",
          "text": [
            "Batch 129: 100%|██████████| 2/2 [00:50<00:00, 25.11s/it]\n"
          ]
        },
        {
          "output_type": "stream",
          "name": "stdout",
          "text": [
            "Batch 129 results saved to /content/drive/MyDrive/open/batch_results/predictions_batch_129.csv\n",
            "Completed batch 130/1485\n",
            "Processing batch 130 with 64 images...\n"
          ]
        },
        {
          "output_type": "stream",
          "name": "stderr",
          "text": [
            "Batch 130: 100%|██████████| 2/2 [00:55<00:00, 27.89s/it]\n"
          ]
        },
        {
          "output_type": "stream",
          "name": "stdout",
          "text": [
            "Batch 130 results saved to /content/drive/MyDrive/open/batch_results/predictions_batch_130.csv\n",
            "Completed batch 131/1485\n",
            "Processing batch 131 with 64 images...\n"
          ]
        },
        {
          "output_type": "stream",
          "name": "stderr",
          "text": [
            "Batch 131: 100%|██████████| 2/2 [00:53<00:00, 26.55s/it]\n"
          ]
        },
        {
          "output_type": "stream",
          "name": "stdout",
          "text": [
            "Batch 131 results saved to /content/drive/MyDrive/open/batch_results/predictions_batch_131.csv\n",
            "Completed batch 132/1485\n",
            "Processing batch 132 with 64 images...\n"
          ]
        },
        {
          "output_type": "stream",
          "name": "stderr",
          "text": [
            "Batch 132: 100%|██████████| 2/2 [00:49<00:00, 24.63s/it]\n"
          ]
        },
        {
          "output_type": "stream",
          "name": "stdout",
          "text": [
            "Batch 132 results saved to /content/drive/MyDrive/open/batch_results/predictions_batch_132.csv\n",
            "Completed batch 133/1485\n",
            "Processing batch 133 with 64 images...\n"
          ]
        },
        {
          "output_type": "stream",
          "name": "stderr",
          "text": [
            "Batch 133: 100%|██████████| 2/2 [00:47<00:00, 23.98s/it]\n"
          ]
        },
        {
          "output_type": "stream",
          "name": "stdout",
          "text": [
            "Batch 133 results saved to /content/drive/MyDrive/open/batch_results/predictions_batch_133.csv\n",
            "Completed batch 134/1485\n",
            "Processing batch 134 with 64 images...\n"
          ]
        },
        {
          "output_type": "stream",
          "name": "stderr",
          "text": [
            "Batch 134: 100%|██████████| 2/2 [00:49<00:00, 24.92s/it]\n"
          ]
        },
        {
          "output_type": "stream",
          "name": "stdout",
          "text": [
            "Batch 134 results saved to /content/drive/MyDrive/open/batch_results/predictions_batch_134.csv\n",
            "Completed batch 135/1485\n",
            "Processing batch 135 with 64 images...\n"
          ]
        },
        {
          "output_type": "stream",
          "name": "stderr",
          "text": [
            "Batch 135: 100%|██████████| 2/2 [00:50<00:00, 25.31s/it]\n"
          ]
        },
        {
          "output_type": "stream",
          "name": "stdout",
          "text": [
            "Batch 135 results saved to /content/drive/MyDrive/open/batch_results/predictions_batch_135.csv\n",
            "Completed batch 136/1485\n",
            "Processing batch 136 with 64 images...\n"
          ]
        },
        {
          "output_type": "stream",
          "name": "stderr",
          "text": [
            "Batch 136: 100%|██████████| 2/2 [00:49<00:00, 24.54s/it]\n"
          ]
        },
        {
          "output_type": "stream",
          "name": "stdout",
          "text": [
            "Batch 136 results saved to /content/drive/MyDrive/open/batch_results/predictions_batch_136.csv\n",
            "Completed batch 137/1485\n",
            "Processing batch 137 with 64 images...\n"
          ]
        },
        {
          "output_type": "stream",
          "name": "stderr",
          "text": [
            "Batch 137: 100%|██████████| 2/2 [00:52<00:00, 26.19s/it]\n"
          ]
        },
        {
          "output_type": "stream",
          "name": "stdout",
          "text": [
            "Batch 137 results saved to /content/drive/MyDrive/open/batch_results/predictions_batch_137.csv\n",
            "Completed batch 138/1485\n",
            "Processing batch 138 with 64 images...\n"
          ]
        },
        {
          "output_type": "stream",
          "name": "stderr",
          "text": [
            "Batch 138: 100%|██████████| 2/2 [00:49<00:00, 24.62s/it]\n"
          ]
        },
        {
          "output_type": "stream",
          "name": "stdout",
          "text": [
            "Batch 138 results saved to /content/drive/MyDrive/open/batch_results/predictions_batch_138.csv\n",
            "Completed batch 139/1485\n",
            "Processing batch 139 with 64 images...\n"
          ]
        },
        {
          "output_type": "stream",
          "name": "stderr",
          "text": [
            "Batch 139: 100%|██████████| 2/2 [00:48<00:00, 24.31s/it]\n"
          ]
        },
        {
          "output_type": "stream",
          "name": "stdout",
          "text": [
            "Batch 139 results saved to /content/drive/MyDrive/open/batch_results/predictions_batch_139.csv\n",
            "Completed batch 140/1485\n",
            "Processing batch 140 with 64 images...\n"
          ]
        },
        {
          "output_type": "stream",
          "name": "stderr",
          "text": [
            "Batch 140: 100%|██████████| 2/2 [00:50<00:00, 25.29s/it]\n"
          ]
        },
        {
          "output_type": "stream",
          "name": "stdout",
          "text": [
            "Batch 140 results saved to /content/drive/MyDrive/open/batch_results/predictions_batch_140.csv\n",
            "Completed batch 141/1485\n",
            "Processing batch 141 with 64 images...\n"
          ]
        },
        {
          "output_type": "stream",
          "name": "stderr",
          "text": [
            "Batch 141: 100%|██████████| 2/2 [01:01<00:00, 30.55s/it]\n"
          ]
        },
        {
          "output_type": "stream",
          "name": "stdout",
          "text": [
            "Batch 141 results saved to /content/drive/MyDrive/open/batch_results/predictions_batch_141.csv\n",
            "Completed batch 142/1485\n",
            "Processing batch 142 with 64 images...\n"
          ]
        },
        {
          "output_type": "stream",
          "name": "stderr",
          "text": [
            "Batch 142: 100%|██████████| 2/2 [00:49<00:00, 24.69s/it]\n"
          ]
        },
        {
          "output_type": "stream",
          "name": "stdout",
          "text": [
            "Batch 142 results saved to /content/drive/MyDrive/open/batch_results/predictions_batch_142.csv\n",
            "Completed batch 143/1485\n",
            "Processing batch 143 with 64 images...\n"
          ]
        },
        {
          "output_type": "stream",
          "name": "stderr",
          "text": [
            "Batch 143: 100%|██████████| 2/2 [00:53<00:00, 26.70s/it]\n"
          ]
        },
        {
          "output_type": "stream",
          "name": "stdout",
          "text": [
            "Batch 143 results saved to /content/drive/MyDrive/open/batch_results/predictions_batch_143.csv\n",
            "Completed batch 144/1485\n",
            "Processing batch 144 with 64 images...\n"
          ]
        },
        {
          "output_type": "stream",
          "name": "stderr",
          "text": [
            "Batch 144: 100%|██████████| 2/2 [00:47<00:00, 23.97s/it]\n"
          ]
        },
        {
          "output_type": "stream",
          "name": "stdout",
          "text": [
            "Batch 144 results saved to /content/drive/MyDrive/open/batch_results/predictions_batch_144.csv\n",
            "Completed batch 145/1485\n",
            "Processing batch 145 with 64 images...\n"
          ]
        },
        {
          "output_type": "stream",
          "name": "stderr",
          "text": [
            "Batch 145: 100%|██████████| 2/2 [00:51<00:00, 25.99s/it]\n"
          ]
        },
        {
          "output_type": "stream",
          "name": "stdout",
          "text": [
            "Batch 145 results saved to /content/drive/MyDrive/open/batch_results/predictions_batch_145.csv\n",
            "Completed batch 146/1485\n",
            "Processing batch 146 with 64 images...\n"
          ]
        },
        {
          "output_type": "stream",
          "name": "stderr",
          "text": [
            "Batch 146: 100%|██████████| 2/2 [00:52<00:00, 26.41s/it]\n"
          ]
        },
        {
          "output_type": "stream",
          "name": "stdout",
          "text": [
            "Batch 146 results saved to /content/drive/MyDrive/open/batch_results/predictions_batch_146.csv\n",
            "Completed batch 147/1485\n",
            "Processing batch 147 with 64 images...\n"
          ]
        },
        {
          "output_type": "stream",
          "name": "stderr",
          "text": [
            "Batch 147: 100%|██████████| 2/2 [00:50<00:00, 25.21s/it]\n"
          ]
        },
        {
          "output_type": "stream",
          "name": "stdout",
          "text": [
            "Batch 147 results saved to /content/drive/MyDrive/open/batch_results/predictions_batch_147.csv\n",
            "Completed batch 148/1485\n",
            "Processing batch 148 with 64 images...\n"
          ]
        },
        {
          "output_type": "stream",
          "name": "stderr",
          "text": [
            "Batch 148: 100%|██████████| 2/2 [00:46<00:00, 23.29s/it]\n"
          ]
        },
        {
          "output_type": "stream",
          "name": "stdout",
          "text": [
            "Batch 148 results saved to /content/drive/MyDrive/open/batch_results/predictions_batch_148.csv\n",
            "Completed batch 149/1485\n",
            "Processing batch 149 with 64 images...\n"
          ]
        },
        {
          "output_type": "stream",
          "name": "stderr",
          "text": [
            "Batch 149: 100%|██████████| 2/2 [00:52<00:00, 26.29s/it]\n"
          ]
        },
        {
          "output_type": "stream",
          "name": "stdout",
          "text": [
            "Batch 149 results saved to /content/drive/MyDrive/open/batch_results/predictions_batch_149.csv\n",
            "Completed batch 150/1485\n",
            "Processing batch 150 with 64 images...\n"
          ]
        },
        {
          "output_type": "stream",
          "name": "stderr",
          "text": [
            "Batch 150: 100%|██████████| 2/2 [00:48<00:00, 24.24s/it]\n"
          ]
        },
        {
          "output_type": "stream",
          "name": "stdout",
          "text": [
            "Batch 150 results saved to /content/drive/MyDrive/open/batch_results/predictions_batch_150.csv\n",
            "Completed batch 151/1485\n",
            "Processing batch 151 with 64 images...\n"
          ]
        },
        {
          "output_type": "stream",
          "name": "stderr",
          "text": [
            "Batch 151: 100%|██████████| 2/2 [00:51<00:00, 25.70s/it]\n"
          ]
        },
        {
          "output_type": "stream",
          "name": "stdout",
          "text": [
            "Batch 151 results saved to /content/drive/MyDrive/open/batch_results/predictions_batch_151.csv\n",
            "Completed batch 152/1485\n",
            "Processing batch 152 with 64 images...\n"
          ]
        },
        {
          "output_type": "stream",
          "name": "stderr",
          "text": [
            "Batch 152: 100%|██████████| 2/2 [00:48<00:00, 24.43s/it]\n"
          ]
        },
        {
          "output_type": "stream",
          "name": "stdout",
          "text": [
            "Batch 152 results saved to /content/drive/MyDrive/open/batch_results/predictions_batch_152.csv\n",
            "Completed batch 153/1485\n",
            "Processing batch 153 with 64 images...\n"
          ]
        },
        {
          "output_type": "stream",
          "name": "stderr",
          "text": [
            "Batch 153: 100%|██████████| 2/2 [00:51<00:00, 25.51s/it]\n"
          ]
        },
        {
          "output_type": "stream",
          "name": "stdout",
          "text": [
            "Batch 153 results saved to /content/drive/MyDrive/open/batch_results/predictions_batch_153.csv\n",
            "Completed batch 154/1485\n",
            "Processing batch 154 with 64 images...\n"
          ]
        },
        {
          "output_type": "stream",
          "name": "stderr",
          "text": [
            "Batch 154: 100%|██████████| 2/2 [00:51<00:00, 25.59s/it]\n"
          ]
        },
        {
          "output_type": "stream",
          "name": "stdout",
          "text": [
            "Batch 154 results saved to /content/drive/MyDrive/open/batch_results/predictions_batch_154.csv\n",
            "Completed batch 155/1485\n",
            "Processing batch 155 with 64 images...\n"
          ]
        },
        {
          "output_type": "stream",
          "name": "stderr",
          "text": [
            "Batch 155: 100%|██████████| 2/2 [00:47<00:00, 23.85s/it]\n"
          ]
        },
        {
          "output_type": "stream",
          "name": "stdout",
          "text": [
            "Batch 155 results saved to /content/drive/MyDrive/open/batch_results/predictions_batch_155.csv\n",
            "Completed batch 156/1485\n",
            "Processing batch 156 with 64 images...\n"
          ]
        },
        {
          "output_type": "stream",
          "name": "stderr",
          "text": [
            "Batch 156: 100%|██████████| 2/2 [00:48<00:00, 24.37s/it]\n"
          ]
        },
        {
          "output_type": "stream",
          "name": "stdout",
          "text": [
            "Batch 156 results saved to /content/drive/MyDrive/open/batch_results/predictions_batch_156.csv\n",
            "Completed batch 157/1485\n",
            "Processing batch 157 with 64 images...\n"
          ]
        },
        {
          "output_type": "stream",
          "name": "stderr",
          "text": [
            "Batch 157: 100%|██████████| 2/2 [00:51<00:00, 25.95s/it]\n"
          ]
        },
        {
          "output_type": "stream",
          "name": "stdout",
          "text": [
            "Batch 157 results saved to /content/drive/MyDrive/open/batch_results/predictions_batch_157.csv\n",
            "Completed batch 158/1485\n",
            "Processing batch 158 with 64 images...\n"
          ]
        },
        {
          "output_type": "stream",
          "name": "stderr",
          "text": [
            "Batch 158: 100%|██████████| 2/2 [00:51<00:00, 25.64s/it]\n"
          ]
        },
        {
          "output_type": "stream",
          "name": "stdout",
          "text": [
            "Batch 158 results saved to /content/drive/MyDrive/open/batch_results/predictions_batch_158.csv\n",
            "Completed batch 159/1485\n",
            "Processing batch 159 with 64 images...\n"
          ]
        },
        {
          "output_type": "stream",
          "name": "stderr",
          "text": [
            "Batch 159: 100%|██████████| 2/2 [00:47<00:00, 23.91s/it]\n"
          ]
        },
        {
          "output_type": "stream",
          "name": "stdout",
          "text": [
            "Batch 159 results saved to /content/drive/MyDrive/open/batch_results/predictions_batch_159.csv\n",
            "Completed batch 160/1485\n",
            "Processing batch 160 with 64 images...\n"
          ]
        },
        {
          "output_type": "stream",
          "name": "stderr",
          "text": [
            "Batch 160: 100%|██████████| 2/2 [00:47<00:00, 23.96s/it]\n"
          ]
        },
        {
          "output_type": "stream",
          "name": "stdout",
          "text": [
            "Batch 160 results saved to /content/drive/MyDrive/open/batch_results/predictions_batch_160.csv\n",
            "Completed batch 161/1485\n",
            "Processing batch 161 with 64 images...\n"
          ]
        },
        {
          "output_type": "stream",
          "name": "stderr",
          "text": [
            "Batch 161: 100%|██████████| 2/2 [00:48<00:00, 24.13s/it]\n"
          ]
        },
        {
          "output_type": "stream",
          "name": "stdout",
          "text": [
            "Batch 161 results saved to /content/drive/MyDrive/open/batch_results/predictions_batch_161.csv\n",
            "Completed batch 162/1485\n",
            "Processing batch 162 with 64 images...\n"
          ]
        },
        {
          "output_type": "stream",
          "name": "stderr",
          "text": [
            "Batch 162: 100%|██████████| 2/2 [00:52<00:00, 26.24s/it]\n"
          ]
        },
        {
          "output_type": "stream",
          "name": "stdout",
          "text": [
            "Batch 162 results saved to /content/drive/MyDrive/open/batch_results/predictions_batch_162.csv\n",
            "Completed batch 163/1485\n",
            "Processing batch 163 with 64 images...\n"
          ]
        },
        {
          "output_type": "stream",
          "name": "stderr",
          "text": [
            "Batch 163: 100%|██████████| 2/2 [00:56<00:00, 28.30s/it]\n"
          ]
        },
        {
          "output_type": "stream",
          "name": "stdout",
          "text": [
            "Batch 163 results saved to /content/drive/MyDrive/open/batch_results/predictions_batch_163.csv\n",
            "Completed batch 164/1485\n",
            "Processing batch 164 with 64 images...\n"
          ]
        },
        {
          "output_type": "stream",
          "name": "stderr",
          "text": [
            "Batch 164: 100%|██████████| 2/2 [00:52<00:00, 26.14s/it]\n"
          ]
        },
        {
          "output_type": "stream",
          "name": "stdout",
          "text": [
            "Batch 164 results saved to /content/drive/MyDrive/open/batch_results/predictions_batch_164.csv\n",
            "Completed batch 165/1485\n",
            "Processing batch 165 with 64 images...\n"
          ]
        },
        {
          "output_type": "stream",
          "name": "stderr",
          "text": [
            "Batch 165: 100%|██████████| 2/2 [00:49<00:00, 24.87s/it]\n"
          ]
        },
        {
          "output_type": "stream",
          "name": "stdout",
          "text": [
            "Batch 165 results saved to /content/drive/MyDrive/open/batch_results/predictions_batch_165.csv\n",
            "Completed batch 166/1485\n",
            "Processing batch 166 with 64 images...\n"
          ]
        },
        {
          "output_type": "stream",
          "name": "stderr",
          "text": [
            "Batch 166: 100%|██████████| 2/2 [00:59<00:00, 29.53s/it]\n"
          ]
        },
        {
          "output_type": "stream",
          "name": "stdout",
          "text": [
            "Batch 166 results saved to /content/drive/MyDrive/open/batch_results/predictions_batch_166.csv\n",
            "Completed batch 167/1485\n",
            "Processing batch 167 with 64 images...\n"
          ]
        },
        {
          "output_type": "stream",
          "name": "stderr",
          "text": [
            "Batch 167: 100%|██████████| 2/2 [00:50<00:00, 25.06s/it]\n"
          ]
        },
        {
          "output_type": "stream",
          "name": "stdout",
          "text": [
            "Batch 167 results saved to /content/drive/MyDrive/open/batch_results/predictions_batch_167.csv\n",
            "Completed batch 168/1485\n",
            "Processing batch 168 with 64 images...\n"
          ]
        },
        {
          "output_type": "stream",
          "name": "stderr",
          "text": [
            "Batch 168: 100%|██████████| 2/2 [00:50<00:00, 25.37s/it]\n"
          ]
        },
        {
          "output_type": "stream",
          "name": "stdout",
          "text": [
            "Batch 168 results saved to /content/drive/MyDrive/open/batch_results/predictions_batch_168.csv\n",
            "Completed batch 169/1485\n",
            "Processing batch 169 with 64 images...\n"
          ]
        },
        {
          "output_type": "stream",
          "name": "stderr",
          "text": [
            "Batch 169: 100%|██████████| 2/2 [01:04<00:00, 32.37s/it]\n"
          ]
        },
        {
          "output_type": "stream",
          "name": "stdout",
          "text": [
            "Batch 169 results saved to /content/drive/MyDrive/open/batch_results/predictions_batch_169.csv\n",
            "Completed batch 170/1485\n",
            "Processing batch 170 with 64 images...\n"
          ]
        },
        {
          "output_type": "stream",
          "name": "stderr",
          "text": [
            "Batch 170: 100%|██████████| 2/2 [00:50<00:00, 25.13s/it]\n"
          ]
        },
        {
          "output_type": "stream",
          "name": "stdout",
          "text": [
            "Batch 170 results saved to /content/drive/MyDrive/open/batch_results/predictions_batch_170.csv\n",
            "Completed batch 171/1485\n",
            "Processing batch 171 with 64 images...\n"
          ]
        },
        {
          "output_type": "stream",
          "name": "stderr",
          "text": [
            "Batch 171: 100%|██████████| 2/2 [00:49<00:00, 24.53s/it]\n"
          ]
        },
        {
          "output_type": "stream",
          "name": "stdout",
          "text": [
            "Batch 171 results saved to /content/drive/MyDrive/open/batch_results/predictions_batch_171.csv\n",
            "Completed batch 172/1485\n",
            "Processing batch 172 with 64 images...\n"
          ]
        },
        {
          "output_type": "stream",
          "name": "stderr",
          "text": [
            "Batch 172: 100%|██████████| 2/2 [00:48<00:00, 24.13s/it]\n"
          ]
        },
        {
          "output_type": "stream",
          "name": "stdout",
          "text": [
            "Batch 172 results saved to /content/drive/MyDrive/open/batch_results/predictions_batch_172.csv\n",
            "Completed batch 173/1485\n",
            "Processing batch 173 with 64 images...\n"
          ]
        },
        {
          "output_type": "stream",
          "name": "stderr",
          "text": [
            "Batch 173: 100%|██████████| 2/2 [00:51<00:00, 25.51s/it]\n"
          ]
        },
        {
          "output_type": "stream",
          "name": "stdout",
          "text": [
            "Batch 173 results saved to /content/drive/MyDrive/open/batch_results/predictions_batch_173.csv\n",
            "Completed batch 174/1485\n",
            "Processing batch 174 with 64 images...\n"
          ]
        },
        {
          "output_type": "stream",
          "name": "stderr",
          "text": [
            "Batch 174: 100%|██████████| 2/2 [00:50<00:00, 25.39s/it]\n"
          ]
        },
        {
          "output_type": "stream",
          "name": "stdout",
          "text": [
            "Batch 174 results saved to /content/drive/MyDrive/open/batch_results/predictions_batch_174.csv\n",
            "Completed batch 175/1485\n",
            "Processing batch 175 with 64 images...\n"
          ]
        },
        {
          "output_type": "stream",
          "name": "stderr",
          "text": [
            "Batch 175: 100%|██████████| 2/2 [00:46<00:00, 23.22s/it]\n"
          ]
        },
        {
          "output_type": "stream",
          "name": "stdout",
          "text": [
            "Batch 175 results saved to /content/drive/MyDrive/open/batch_results/predictions_batch_175.csv\n",
            "Completed batch 176/1485\n",
            "Processing batch 176 with 64 images...\n"
          ]
        },
        {
          "output_type": "stream",
          "name": "stderr",
          "text": [
            "Batch 176: 100%|██████████| 2/2 [00:50<00:00, 25.42s/it]\n"
          ]
        },
        {
          "output_type": "stream",
          "name": "stdout",
          "text": [
            "Batch 176 results saved to /content/drive/MyDrive/open/batch_results/predictions_batch_176.csv\n",
            "Completed batch 177/1485\n",
            "Processing batch 177 with 64 images...\n"
          ]
        },
        {
          "output_type": "stream",
          "name": "stderr",
          "text": [
            "Batch 177: 100%|██████████| 2/2 [00:49<00:00, 24.67s/it]\n"
          ]
        },
        {
          "output_type": "stream",
          "name": "stdout",
          "text": [
            "Batch 177 results saved to /content/drive/MyDrive/open/batch_results/predictions_batch_177.csv\n",
            "Completed batch 178/1485\n",
            "Processing batch 178 with 64 images...\n"
          ]
        },
        {
          "output_type": "stream",
          "name": "stderr",
          "text": [
            "Batch 178: 100%|██████████| 2/2 [00:54<00:00, 27.04s/it]\n"
          ]
        },
        {
          "output_type": "stream",
          "name": "stdout",
          "text": [
            "Batch 178 results saved to /content/drive/MyDrive/open/batch_results/predictions_batch_178.csv\n",
            "Completed batch 179/1485\n",
            "Processing batch 179 with 64 images...\n"
          ]
        },
        {
          "output_type": "stream",
          "name": "stderr",
          "text": [
            "Batch 179: 100%|██████████| 2/2 [00:53<00:00, 26.72s/it]\n"
          ]
        },
        {
          "output_type": "stream",
          "name": "stdout",
          "text": [
            "Batch 179 results saved to /content/drive/MyDrive/open/batch_results/predictions_batch_179.csv\n",
            "Completed batch 180/1485\n",
            "Processing batch 180 with 64 images...\n"
          ]
        },
        {
          "output_type": "stream",
          "name": "stderr",
          "text": [
            "Batch 180: 100%|██████████| 2/2 [00:50<00:00, 25.01s/it]\n"
          ]
        },
        {
          "output_type": "stream",
          "name": "stdout",
          "text": [
            "Batch 180 results saved to /content/drive/MyDrive/open/batch_results/predictions_batch_180.csv\n",
            "Completed batch 181/1485\n",
            "Processing batch 181 with 64 images...\n"
          ]
        },
        {
          "output_type": "stream",
          "name": "stderr",
          "text": [
            "Batch 181: 100%|██████████| 2/2 [00:50<00:00, 25.07s/it]\n"
          ]
        },
        {
          "output_type": "stream",
          "name": "stdout",
          "text": [
            "Batch 181 results saved to /content/drive/MyDrive/open/batch_results/predictions_batch_181.csv\n",
            "Completed batch 182/1485\n",
            "Processing batch 182 with 64 images...\n"
          ]
        },
        {
          "output_type": "stream",
          "name": "stderr",
          "text": [
            "Batch 182: 100%|██████████| 2/2 [00:50<00:00, 25.32s/it]\n"
          ]
        },
        {
          "output_type": "stream",
          "name": "stdout",
          "text": [
            "Batch 182 results saved to /content/drive/MyDrive/open/batch_results/predictions_batch_182.csv\n",
            "Completed batch 183/1485\n",
            "Processing batch 183 with 64 images...\n"
          ]
        },
        {
          "output_type": "stream",
          "name": "stderr",
          "text": [
            "Batch 183: 100%|██████████| 2/2 [00:51<00:00, 25.64s/it]\n"
          ]
        },
        {
          "output_type": "stream",
          "name": "stdout",
          "text": [
            "Batch 183 results saved to /content/drive/MyDrive/open/batch_results/predictions_batch_183.csv\n",
            "Completed batch 184/1485\n",
            "Processing batch 184 with 64 images...\n"
          ]
        },
        {
          "output_type": "stream",
          "name": "stderr",
          "text": [
            "Batch 184: 100%|██████████| 2/2 [00:48<00:00, 24.38s/it]\n"
          ]
        },
        {
          "output_type": "stream",
          "name": "stdout",
          "text": [
            "Batch 184 results saved to /content/drive/MyDrive/open/batch_results/predictions_batch_184.csv\n",
            "Completed batch 185/1485\n",
            "Processing batch 185 with 64 images...\n"
          ]
        },
        {
          "output_type": "stream",
          "name": "stderr",
          "text": [
            "Batch 185: 100%|██████████| 2/2 [00:50<00:00, 25.07s/it]\n"
          ]
        },
        {
          "output_type": "stream",
          "name": "stdout",
          "text": [
            "Batch 185 results saved to /content/drive/MyDrive/open/batch_results/predictions_batch_185.csv\n",
            "Completed batch 186/1485\n",
            "Processing batch 186 with 64 images...\n"
          ]
        },
        {
          "output_type": "stream",
          "name": "stderr",
          "text": [
            "Batch 186: 100%|██████████| 2/2 [00:49<00:00, 24.55s/it]\n"
          ]
        },
        {
          "output_type": "stream",
          "name": "stdout",
          "text": [
            "Batch 186 results saved to /content/drive/MyDrive/open/batch_results/predictions_batch_186.csv\n",
            "Completed batch 187/1485\n",
            "Processing batch 187 with 64 images...\n"
          ]
        },
        {
          "output_type": "stream",
          "name": "stderr",
          "text": [
            "Batch 187: 100%|██████████| 2/2 [00:50<00:00, 25.20s/it]\n"
          ]
        },
        {
          "output_type": "stream",
          "name": "stdout",
          "text": [
            "Batch 187 results saved to /content/drive/MyDrive/open/batch_results/predictions_batch_187.csv\n",
            "Completed batch 188/1485\n",
            "Processing batch 188 with 64 images...\n"
          ]
        },
        {
          "output_type": "stream",
          "name": "stderr",
          "text": [
            "Batch 188: 100%|██████████| 2/2 [00:53<00:00, 26.56s/it]\n"
          ]
        },
        {
          "output_type": "stream",
          "name": "stdout",
          "text": [
            "Batch 188 results saved to /content/drive/MyDrive/open/batch_results/predictions_batch_188.csv\n",
            "Completed batch 189/1485\n",
            "Processing batch 189 with 64 images...\n"
          ]
        },
        {
          "output_type": "stream",
          "name": "stderr",
          "text": [
            "Batch 189: 100%|██████████| 2/2 [00:46<00:00, 23.45s/it]\n"
          ]
        },
        {
          "output_type": "stream",
          "name": "stdout",
          "text": [
            "Batch 189 results saved to /content/drive/MyDrive/open/batch_results/predictions_batch_189.csv\n",
            "Completed batch 190/1485\n",
            "Processing batch 190 with 64 images...\n"
          ]
        },
        {
          "output_type": "stream",
          "name": "stderr",
          "text": [
            "Batch 190: 100%|██████████| 2/2 [00:49<00:00, 24.57s/it]\n"
          ]
        },
        {
          "output_type": "stream",
          "name": "stdout",
          "text": [
            "Batch 190 results saved to /content/drive/MyDrive/open/batch_results/predictions_batch_190.csv\n",
            "Completed batch 191/1485\n",
            "Processing batch 191 with 64 images...\n"
          ]
        },
        {
          "output_type": "stream",
          "name": "stderr",
          "text": [
            "Batch 191: 100%|██████████| 2/2 [00:47<00:00, 23.92s/it]\n"
          ]
        },
        {
          "output_type": "stream",
          "name": "stdout",
          "text": [
            "Batch 191 results saved to /content/drive/MyDrive/open/batch_results/predictions_batch_191.csv\n",
            "Completed batch 192/1485\n",
            "Processing batch 192 with 64 images...\n"
          ]
        },
        {
          "output_type": "stream",
          "name": "stderr",
          "text": [
            "Batch 192: 100%|██████████| 2/2 [00:52<00:00, 26.01s/it]\n"
          ]
        },
        {
          "output_type": "stream",
          "name": "stdout",
          "text": [
            "Batch 192 results saved to /content/drive/MyDrive/open/batch_results/predictions_batch_192.csv\n",
            "Completed batch 193/1485\n",
            "Processing batch 193 with 64 images...\n"
          ]
        },
        {
          "output_type": "stream",
          "name": "stderr",
          "text": [
            "Batch 193: 100%|██████████| 2/2 [00:51<00:00, 25.72s/it]\n"
          ]
        },
        {
          "output_type": "stream",
          "name": "stdout",
          "text": [
            "Batch 193 results saved to /content/drive/MyDrive/open/batch_results/predictions_batch_193.csv\n",
            "Completed batch 194/1485\n",
            "Processing batch 194 with 64 images...\n"
          ]
        },
        {
          "output_type": "stream",
          "name": "stderr",
          "text": [
            "Batch 194: 100%|██████████| 2/2 [00:48<00:00, 24.23s/it]\n"
          ]
        },
        {
          "output_type": "stream",
          "name": "stdout",
          "text": [
            "Batch 194 results saved to /content/drive/MyDrive/open/batch_results/predictions_batch_194.csv\n",
            "Completed batch 195/1485\n",
            "Processing batch 195 with 64 images...\n"
          ]
        },
        {
          "output_type": "stream",
          "name": "stderr",
          "text": [
            "Batch 195: 100%|██████████| 2/2 [00:50<00:00, 25.04s/it]\n"
          ]
        },
        {
          "output_type": "stream",
          "name": "stdout",
          "text": [
            "Batch 195 results saved to /content/drive/MyDrive/open/batch_results/predictions_batch_195.csv\n",
            "Completed batch 196/1485\n",
            "Processing batch 196 with 64 images...\n"
          ]
        },
        {
          "output_type": "stream",
          "name": "stderr",
          "text": [
            "Batch 196: 100%|██████████| 2/2 [00:50<00:00, 25.36s/it]\n"
          ]
        },
        {
          "output_type": "stream",
          "name": "stdout",
          "text": [
            "Batch 196 results saved to /content/drive/MyDrive/open/batch_results/predictions_batch_196.csv\n",
            "Completed batch 197/1485\n",
            "Processing batch 197 with 64 images...\n"
          ]
        },
        {
          "output_type": "stream",
          "name": "stderr",
          "text": [
            "Batch 197: 100%|██████████| 2/2 [00:52<00:00, 26.18s/it]\n"
          ]
        },
        {
          "output_type": "stream",
          "name": "stdout",
          "text": [
            "Batch 197 results saved to /content/drive/MyDrive/open/batch_results/predictions_batch_197.csv\n",
            "Completed batch 198/1485\n",
            "Processing batch 198 with 64 images...\n"
          ]
        },
        {
          "output_type": "stream",
          "name": "stderr",
          "text": [
            "Batch 198: 100%|██████████| 2/2 [00:50<00:00, 25.15s/it]\n"
          ]
        },
        {
          "output_type": "stream",
          "name": "stdout",
          "text": [
            "Batch 198 results saved to /content/drive/MyDrive/open/batch_results/predictions_batch_198.csv\n",
            "Completed batch 199/1485\n",
            "Processing batch 199 with 64 images...\n"
          ]
        },
        {
          "output_type": "stream",
          "name": "stderr",
          "text": [
            "Batch 199: 100%|██████████| 2/2 [00:48<00:00, 24.43s/it]\n"
          ]
        },
        {
          "output_type": "stream",
          "name": "stdout",
          "text": [
            "Batch 199 results saved to /content/drive/MyDrive/open/batch_results/predictions_batch_199.csv\n",
            "Completed batch 200/1485\n",
            "Processing batch 200 with 64 images...\n"
          ]
        },
        {
          "output_type": "stream",
          "name": "stderr",
          "text": [
            "Batch 200: 100%|██████████| 2/2 [00:47<00:00, 23.78s/it]\n"
          ]
        },
        {
          "output_type": "stream",
          "name": "stdout",
          "text": [
            "Batch 200 results saved to /content/drive/MyDrive/open/batch_results/predictions_batch_200.csv\n",
            "Completed batch 201/1485\n",
            "Processing batch 201 with 64 images...\n"
          ]
        },
        {
          "output_type": "stream",
          "name": "stderr",
          "text": [
            "Batch 201: 100%|██████████| 2/2 [00:53<00:00, 26.72s/it]\n"
          ]
        },
        {
          "output_type": "stream",
          "name": "stdout",
          "text": [
            "Batch 201 results saved to /content/drive/MyDrive/open/batch_results/predictions_batch_201.csv\n",
            "Completed batch 202/1485\n",
            "Processing batch 202 with 64 images...\n"
          ]
        },
        {
          "output_type": "stream",
          "name": "stderr",
          "text": [
            "Batch 202: 100%|██████████| 2/2 [00:49<00:00, 24.72s/it]\n"
          ]
        },
        {
          "output_type": "stream",
          "name": "stdout",
          "text": [
            "Batch 202 results saved to /content/drive/MyDrive/open/batch_results/predictions_batch_202.csv\n",
            "Completed batch 203/1485\n",
            "Processing batch 203 with 64 images...\n"
          ]
        },
        {
          "output_type": "stream",
          "name": "stderr",
          "text": [
            "Batch 203: 100%|██████████| 2/2 [00:47<00:00, 23.81s/it]\n"
          ]
        },
        {
          "output_type": "stream",
          "name": "stdout",
          "text": [
            "Batch 203 results saved to /content/drive/MyDrive/open/batch_results/predictions_batch_203.csv\n",
            "Completed batch 204/1485\n",
            "Processing batch 204 with 64 images...\n"
          ]
        },
        {
          "output_type": "stream",
          "name": "stderr",
          "text": [
            "Batch 204: 100%|██████████| 2/2 [00:49<00:00, 24.72s/it]\n"
          ]
        },
        {
          "output_type": "stream",
          "name": "stdout",
          "text": [
            "Batch 204 results saved to /content/drive/MyDrive/open/batch_results/predictions_batch_204.csv\n",
            "Completed batch 205/1485\n",
            "Processing batch 205 with 64 images...\n"
          ]
        },
        {
          "output_type": "stream",
          "name": "stderr",
          "text": [
            "Batch 205: 100%|██████████| 2/2 [00:48<00:00, 24.01s/it]\n"
          ]
        },
        {
          "output_type": "stream",
          "name": "stdout",
          "text": [
            "Batch 205 results saved to /content/drive/MyDrive/open/batch_results/predictions_batch_205.csv\n",
            "Completed batch 206/1485\n",
            "Processing batch 206 with 64 images...\n"
          ]
        },
        {
          "output_type": "stream",
          "name": "stderr",
          "text": [
            "Batch 206: 100%|██████████| 2/2 [00:53<00:00, 26.54s/it]\n"
          ]
        },
        {
          "output_type": "stream",
          "name": "stdout",
          "text": [
            "Batch 206 results saved to /content/drive/MyDrive/open/batch_results/predictions_batch_206.csv\n",
            "Completed batch 207/1485\n",
            "Processing batch 207 with 64 images...\n"
          ]
        },
        {
          "output_type": "stream",
          "name": "stderr",
          "text": [
            "Batch 207: 100%|██████████| 2/2 [00:47<00:00, 23.67s/it]\n"
          ]
        },
        {
          "output_type": "stream",
          "name": "stdout",
          "text": [
            "Batch 207 results saved to /content/drive/MyDrive/open/batch_results/predictions_batch_207.csv\n",
            "Completed batch 208/1485\n",
            "Processing batch 208 with 64 images...\n"
          ]
        },
        {
          "output_type": "stream",
          "name": "stderr",
          "text": [
            "Batch 208: 100%|██████████| 2/2 [00:49<00:00, 24.69s/it]\n"
          ]
        },
        {
          "output_type": "stream",
          "name": "stdout",
          "text": [
            "Batch 208 results saved to /content/drive/MyDrive/open/batch_results/predictions_batch_208.csv\n",
            "Completed batch 209/1485\n",
            "Processing batch 209 with 64 images...\n"
          ]
        },
        {
          "output_type": "stream",
          "name": "stderr",
          "text": [
            "Batch 209: 100%|██████████| 2/2 [00:48<00:00, 24.24s/it]\n"
          ]
        },
        {
          "output_type": "stream",
          "name": "stdout",
          "text": [
            "Batch 209 results saved to /content/drive/MyDrive/open/batch_results/predictions_batch_209.csv\n",
            "Completed batch 210/1485\n",
            "Processing batch 210 with 64 images...\n"
          ]
        },
        {
          "output_type": "stream",
          "name": "stderr",
          "text": [
            "Batch 210: 100%|██████████| 2/2 [00:48<00:00, 24.19s/it]\n"
          ]
        },
        {
          "output_type": "stream",
          "name": "stdout",
          "text": [
            "Batch 210 results saved to /content/drive/MyDrive/open/batch_results/predictions_batch_210.csv\n",
            "Completed batch 211/1485\n",
            "Processing batch 211 with 64 images...\n"
          ]
        },
        {
          "output_type": "stream",
          "name": "stderr",
          "text": [
            "Batch 211: 100%|██████████| 2/2 [00:46<00:00, 23.39s/it]\n"
          ]
        },
        {
          "output_type": "stream",
          "name": "stdout",
          "text": [
            "Batch 211 results saved to /content/drive/MyDrive/open/batch_results/predictions_batch_211.csv\n",
            "Completed batch 212/1485\n",
            "Processing batch 212 with 64 images...\n"
          ]
        },
        {
          "output_type": "stream",
          "name": "stderr",
          "text": [
            "Batch 212: 100%|██████████| 2/2 [00:47<00:00, 23.89s/it]\n"
          ]
        },
        {
          "output_type": "stream",
          "name": "stdout",
          "text": [
            "Batch 212 results saved to /content/drive/MyDrive/open/batch_results/predictions_batch_212.csv\n",
            "Completed batch 213/1485\n",
            "Processing batch 213 with 64 images...\n"
          ]
        },
        {
          "output_type": "stream",
          "name": "stderr",
          "text": [
            "Batch 213: 100%|██████████| 2/2 [00:47<00:00, 23.76s/it]\n"
          ]
        },
        {
          "output_type": "stream",
          "name": "stdout",
          "text": [
            "Batch 213 results saved to /content/drive/MyDrive/open/batch_results/predictions_batch_213.csv\n",
            "Completed batch 214/1485\n",
            "Processing batch 214 with 64 images...\n"
          ]
        },
        {
          "output_type": "stream",
          "name": "stderr",
          "text": [
            "Batch 214: 100%|██████████| 2/2 [00:52<00:00, 26.07s/it]\n"
          ]
        },
        {
          "output_type": "stream",
          "name": "stdout",
          "text": [
            "Batch 214 results saved to /content/drive/MyDrive/open/batch_results/predictions_batch_214.csv\n",
            "Completed batch 215/1485\n",
            "Processing batch 215 with 64 images...\n"
          ]
        },
        {
          "output_type": "stream",
          "name": "stderr",
          "text": [
            "Batch 215: 100%|██████████| 2/2 [00:50<00:00, 25.08s/it]\n"
          ]
        },
        {
          "output_type": "stream",
          "name": "stdout",
          "text": [
            "Batch 215 results saved to /content/drive/MyDrive/open/batch_results/predictions_batch_215.csv\n",
            "Completed batch 216/1485\n",
            "Processing batch 216 with 64 images...\n"
          ]
        },
        {
          "output_type": "stream",
          "name": "stderr",
          "text": [
            "Batch 216: 100%|██████████| 2/2 [00:47<00:00, 23.54s/it]\n"
          ]
        },
        {
          "output_type": "stream",
          "name": "stdout",
          "text": [
            "Batch 216 results saved to /content/drive/MyDrive/open/batch_results/predictions_batch_216.csv\n",
            "Completed batch 217/1485\n",
            "Processing batch 217 with 64 images...\n"
          ]
        },
        {
          "output_type": "stream",
          "name": "stderr",
          "text": [
            "Batch 217: 100%|██████████| 2/2 [00:50<00:00, 25.27s/it]\n"
          ]
        },
        {
          "output_type": "stream",
          "name": "stdout",
          "text": [
            "Batch 217 results saved to /content/drive/MyDrive/open/batch_results/predictions_batch_217.csv\n",
            "Completed batch 218/1485\n",
            "Processing batch 218 with 64 images...\n"
          ]
        },
        {
          "output_type": "stream",
          "name": "stderr",
          "text": [
            "Batch 218: 100%|██████████| 2/2 [00:50<00:00, 25.18s/it]\n"
          ]
        },
        {
          "output_type": "stream",
          "name": "stdout",
          "text": [
            "Batch 218 results saved to /content/drive/MyDrive/open/batch_results/predictions_batch_218.csv\n",
            "Completed batch 219/1485\n",
            "Processing batch 219 with 64 images...\n"
          ]
        },
        {
          "output_type": "stream",
          "name": "stderr",
          "text": [
            "Batch 219: 100%|██████████| 2/2 [00:49<00:00, 24.81s/it]\n"
          ]
        },
        {
          "output_type": "stream",
          "name": "stdout",
          "text": [
            "Batch 219 results saved to /content/drive/MyDrive/open/batch_results/predictions_batch_219.csv\n",
            "Completed batch 220/1485\n",
            "Processing batch 220 with 64 images...\n"
          ]
        },
        {
          "output_type": "stream",
          "name": "stderr",
          "text": [
            "Batch 220: 100%|██████████| 2/2 [00:49<00:00, 24.98s/it]\n"
          ]
        },
        {
          "output_type": "stream",
          "name": "stdout",
          "text": [
            "Batch 220 results saved to /content/drive/MyDrive/open/batch_results/predictions_batch_220.csv\n",
            "Completed batch 221/1485\n",
            "Processing batch 221 with 64 images...\n"
          ]
        },
        {
          "output_type": "stream",
          "name": "stderr",
          "text": [
            "Batch 221: 100%|██████████| 2/2 [00:49<00:00, 24.86s/it]\n"
          ]
        },
        {
          "output_type": "stream",
          "name": "stdout",
          "text": [
            "Batch 221 results saved to /content/drive/MyDrive/open/batch_results/predictions_batch_221.csv\n",
            "Completed batch 222/1485\n",
            "Processing batch 222 with 64 images...\n"
          ]
        },
        {
          "output_type": "stream",
          "name": "stderr",
          "text": [
            "Batch 222:  50%|█████     | 1/2 [00:22<00:22, 22.99s/it]"
          ]
        }
      ]
    },
    {
      "cell_type": "code",
      "source": [
        "# 경로 수정\n",
        "test_path = '/content/local_test'\n",
        "test_csv_path = '/content/local_test/test.csv'\n",
        "\n",
        "# 테스트 이미지 경로 업데이트\n",
        "test_df = pd.read_csv(test_csv_path)\n",
        "test_image_paths = [os.path.join(test_path, f\"{row['ID']}.jpg\") for _, row in test_df.iterrows()]"
      ],
      "metadata": {
        "colab": {
          "base_uri": "https://localhost:8080/"
        },
        "id": "cum0EykIHkGs",
        "outputId": "1453d071-2fb0-4a99-a4f5-c3d3c389e9b5"
      },
      "execution_count": null,
      "outputs": [
        {
          "output_type": "stream",
          "name": "stdout",
          "text": [
            "/bin/bash: line 1: /usr/bin/cp: Argument list too long\n"
          ]
        }
      ]
    },
    {
      "cell_type": "code",
      "source": [
        "# 모든 이미지를 미리 메모리에 로드\n",
        "print(\"이미지 미리 로드 중...\")\n",
        "preloaded_images = []\n",
        "for path in tqdm(test_image_paths[:subset_size]):\n",
        "    try:\n",
        "        img = Image.open(path).convert('RGB')\n",
        "        img = np.array(img)\n",
        "        preloaded_images.append(img)\n",
        "    except Exception as e:\n",
        "        print(f\"오류: {path} - {e}\")\n",
        "        preloaded_images.append(np.zeros((224, 224, 3), dtype=np.uint8))\n",
        "\n",
        "# 수정된 데이터셋 클래스\n",
        "class PreloadedTestDataset(torch.utils.data.Dataset):\n",
        "    def __init__(self, images, ids, transform=None, labels=None):\n",
        "        self.images = images\n",
        "        self.ids = ids\n",
        "        self.transform = transform\n",
        "        self.labels = labels\n",
        "\n",
        "    def __len__(self):\n",
        "        return len(self.images)\n",
        "\n",
        "    def __getitem__(self, idx):\n",
        "        image = self.images[idx]\n",
        "        if self.transform:\n",
        "            augmented = self.transform(image=image)\n",
        "            image = augmented['image']\n",
        "        id_ = self.ids[idx]\n",
        "        if self.labels is not None:\n",
        "            label = self.labels[idx]\n",
        "            return image, id_, label\n",
        "        return image, id_\n",
        "\n",
        "# 미리 로드된 데이터셋 생성\n",
        "preloaded_test_dataset = PreloadedTestDataset(\n",
        "    preloaded_images,\n",
        "    test_ids[:subset_size],\n",
        "    transform=test_transform,\n",
        "    labels=test_labels[:subset_size] if test_labels is not None else None\n",
        ")\n",
        "\n",
        "test_loader = DataLoader(\n",
        "    preloaded_test_dataset,\n",
        "    batch_size=64,\n",
        "    shuffle=False,\n",
        "    num_workers=0,\n",
        "    pin_memory=True\n",
        ")"
      ],
      "metadata": {
        "id": "5BI7hXVrH0JR",
        "outputId": "09af352a-80c4-4c0d-c9f5-0dbb5f3fc6aa",
        "colab": {
          "base_uri": "https://localhost:8080/",
          "height": 237
        }
      },
      "execution_count": null,
      "outputs": [
        {
          "output_type": "stream",
          "name": "stdout",
          "text": [
            "이미지 미리 로드 중...\n"
          ]
        },
        {
          "output_type": "error",
          "ename": "NameError",
          "evalue": "name 'subset_size' is not defined",
          "traceback": [
            "\u001b[0;31m---------------------------------------------------------------------------\u001b[0m",
            "\u001b[0;31mNameError\u001b[0m                                 Traceback (most recent call last)",
            "\u001b[0;32m<ipython-input-18-481268783c54>\u001b[0m in \u001b[0;36m<cell line: 0>\u001b[0;34m()\u001b[0m\n\u001b[1;32m      2\u001b[0m \u001b[0mprint\u001b[0m\u001b[0;34m(\u001b[0m\u001b[0;34m\"이미지 미리 로드 중...\"\u001b[0m\u001b[0;34m)\u001b[0m\u001b[0;34m\u001b[0m\u001b[0;34m\u001b[0m\u001b[0m\n\u001b[1;32m      3\u001b[0m \u001b[0mpreloaded_images\u001b[0m \u001b[0;34m=\u001b[0m \u001b[0;34m[\u001b[0m\u001b[0;34m]\u001b[0m\u001b[0;34m\u001b[0m\u001b[0;34m\u001b[0m\u001b[0m\n\u001b[0;32m----> 4\u001b[0;31m \u001b[0;32mfor\u001b[0m \u001b[0mpath\u001b[0m \u001b[0;32min\u001b[0m \u001b[0mtqdm\u001b[0m\u001b[0;34m(\u001b[0m\u001b[0mtest_image_paths\u001b[0m\u001b[0;34m[\u001b[0m\u001b[0;34m:\u001b[0m\u001b[0msubset_size\u001b[0m\u001b[0;34m]\u001b[0m\u001b[0;34m)\u001b[0m\u001b[0;34m:\u001b[0m\u001b[0;34m\u001b[0m\u001b[0;34m\u001b[0m\u001b[0m\n\u001b[0m\u001b[1;32m      5\u001b[0m     \u001b[0;32mtry\u001b[0m\u001b[0;34m:\u001b[0m\u001b[0;34m\u001b[0m\u001b[0;34m\u001b[0m\u001b[0m\n\u001b[1;32m      6\u001b[0m         \u001b[0mimg\u001b[0m \u001b[0;34m=\u001b[0m \u001b[0mImage\u001b[0m\u001b[0;34m.\u001b[0m\u001b[0mopen\u001b[0m\u001b[0;34m(\u001b[0m\u001b[0mpath\u001b[0m\u001b[0;34m)\u001b[0m\u001b[0;34m.\u001b[0m\u001b[0mconvert\u001b[0m\u001b[0;34m(\u001b[0m\u001b[0;34m'RGB'\u001b[0m\u001b[0;34m)\u001b[0m\u001b[0;34m\u001b[0m\u001b[0;34m\u001b[0m\u001b[0m\n",
            "\u001b[0;31mNameError\u001b[0m: name 'subset_size' is not defined"
          ]
        }
      ]
    },
    {
      "cell_type": "code",
      "source": [
        "# 테스트 데이터 로드\n",
        "import pandas as pd\n",
        "from PIL import Image\n",
        "from sklearn.metrics import confusion_matrix\n",
        "import matplotlib.pyplot as plt\n",
        "import seaborn as sns\n",
        "from tqdm import tqdm\n",
        "\n",
        "try:\n",
        "    test_df = pd.read_csv(test_csv_path)\n",
        "    test_image_paths = [os.path.join(test_path, f\"{row['ID']}.jpg\") for _, row in test_df.iterrows()]\n",
        "    test_ids = test_df['ID'].tolist()\n",
        "    # 라벨이 있는지 확인\n",
        "    test_labels = test_df['label'].tolist() if 'label' in test_df.columns else None\n",
        "except Exception as e:\n",
        "    print(f\"Error loading test CSV: {e}\")\n",
        "    raise\n",
        "\n",
        "# 테스트용 Dataset\n",
        "class TestDataset(torch.utils.data.Dataset):\n",
        "    def __init__(self, image_paths, ids, transform=None, labels=None):\n",
        "        self.image_paths = image_paths\n",
        "        self.ids = ids\n",
        "        self.transform = transform\n",
        "        self.labels = labels  # 라벨이 있으면 저장, 없으면 None\n",
        "\n",
        "    def __len__(self):\n",
        "        return len(self.image_paths)\n",
        "\n",
        "    def __getitem__(self, idx):\n",
        "        image = Image.open(self.image_paths[idx]).convert('RGB')\n",
        "        image = np.array(image)\n",
        "        if self.transform:\n",
        "            augmented = self.transform(image=image)\n",
        "            image = augmented['image']\n",
        "        id_ = self.ids[idx]\n",
        "        if self.labels is not None:\n",
        "            label = self.labels[idx]\n",
        "            return image, id_, label\n",
        "        return image, id_\n",
        "\n",
        "# 테스트 데이터셋 및 로더\n",
        "test_dataset = TestDataset(test_image_paths, test_ids, transform=test_transform, labels=test_labels)\n",
        "test_loader = DataLoader(\n",
        "    test_dataset,\n",
        "    batch_size=32,  # GPU에서는 더 큰 배치 사이즈\n",
        "    shuffle=False,\n",
        "    num_workers=2,  # Colab GPU에서는 2-4개 워커 권장\n",
        "    pin_memory=True  # GPU 전송 최적화\n",
        ")\n",
        "\n",
        "# 모델 로드 (최적 모델)\n",
        "model = models.mobilenet_v3_small(weights=None)\n",
        "model.classifier[3] = nn.Linear(in_features=1024, out_features=num_classes)\n",
        "model = model.to(device)\n",
        "model.load_state_dict(torch.load('/content/drive/MyDrive/open/best_model.pth', map_location=device))\n",
        "print(\"Best model loaded successfully.\")\n",
        "\n",
        "# 테스트 예측\n",
        "model.eval()\n",
        "predictions = []\n",
        "ids = []\n",
        "true_labels = [] if test_labels is not None else None\n",
        "test_probs = []  # 클래스별 확률 저장\n",
        "\n",
        "with torch.no_grad():\n",
        "    for batch in tqdm(test_loader, desc=\"Testing\"):\n",
        "        if test_labels is not None:\n",
        "            images, batch_ids, labels = batch\n",
        "            true_labels.extend(labels)\n",
        "        else:\n",
        "            images, batch_ids = batch\n",
        "        images = images.to(device)\n",
        "\n",
        "        # 혼합 정밀도 사용\n",
        "        with autocast(device_type='cuda'):\n",
        "          outputs = model(images)\n",
        "\n",
        "        # 확률 계산\n",
        "        probs = torch.nn.functional.softmax(outputs, dim=1)\n",
        "        test_probs.extend(probs.cpu().numpy())\n",
        "\n",
        "        _, predicted = torch.max(outputs, 1)\n",
        "        predictions.extend(predicted.cpu().numpy())\n",
        "        ids.extend(batch_ids)\n",
        "\n",
        "# 예측 라벨\n",
        "pred_labels = [class_names[pred] for pred in predictions]\n",
        "\n",
        "# 라벨이 있는 경우: 정확도 계산 및 결과 분석\n",
        "if test_labels is not None:\n",
        "    correct = sum(1 for true, pred in zip(true_labels, predictions) if true == pred)\n",
        "    total = len(true_labels)\n",
        "    accuracy = 100 * correct / total\n",
        "    print(f\"Test Accuracy: {accuracy:.2f}%\")\n",
        "\n",
        "    # 혼동 행렬\n",
        "    cm = confusion_matrix(true_labels, predictions)\n",
        "    plt.figure(figsize=(12, 10))\n",
        "    sns.heatmap(cm, annot=True, fmt='d', xticklabels=class_names, yticklabels=class_names)\n",
        "    plt.title(\"Test Confusion Matrix\")\n",
        "    plt.xlabel(\"Predicted\")\n",
        "    plt.ylabel(\"True\")\n",
        "    plt.savefig(\"/content/drive/MyDrive/open/test_confusion_matrix.png\")\n",
        "    plt.show()\n",
        "\n",
        "    # 클래스별 정확도\n",
        "    print(\"\\nClass-wise Accuracy:\")\n",
        "    for i, cls in enumerate(class_names):\n",
        "        idx = np.array(true_labels) == i\n",
        "        if np.sum(idx) > 0:\n",
        "            class_acc = np.sum(np.array(predictions)[idx] == i) / np.sum(idx) * 100\n",
        "            print(f\"{cls}: {class_acc:.2f}%\")\n",
        "\n",
        "    # 오분류 샘플 분석\n",
        "    misclassified = np.where(np.array(true_labels) != np.array(predictions))[0]\n",
        "    print(f\"\\nNumber of misclassified samples: {len(misclassified)}\")\n",
        "\n",
        "    # 오분류 상위 5개 출력\n",
        "    if len(misclassified) > 0:\n",
        "        top_misclassified = sorted(misclassified,\n",
        "                            key=lambda i: np.max(test_probs[i]) - test_probs[i][true_labels[i]],\n",
        "                            reverse=True)[:5]\n",
        "\n",
        "        print(\"\\nTop 5 confident misclassifications:\")\n",
        "        for idx in top_misclassified:\n",
        "            true_cls = class_names[true_labels[idx]]\n",
        "            pred_cls = class_names[predictions[idx]]\n",
        "            confidence = test_probs[idx][predictions[idx]] * 100\n",
        "            print(f\"ID: {ids[idx]}, True: {true_cls}, Predicted: {pred_cls}, Confidence: {confidence:.2f}%\")\n",
        "\n",
        "# 라벨이 없는 경우: 예측 결과 저장\n",
        "else:\n",
        "    # 예측 결과를 DataFrame으로 저장\n",
        "    import pandas as pd\n",
        "    result_df = pd.DataFrame({\n",
        "        'ID': ids,\n",
        "        'label': pred_labels\n",
        "    })\n",
        "\n",
        "    # 클래스별 확률 열 추가\n",
        "    for i, cls in enumerate(class_names):\n",
        "        result_df[f'prob_{cls}'] = [probs[i] for probs in test_probs]\n",
        "\n",
        "    # CSV 파일로 저장\n",
        "    result_df.to_csv('/content/drive/MyDrive/open/test_predictions.csv', index=False)\n",
        "    print(\"Predictions saved to /content/drive/MyDrive/open/test_predictions.csv\")\n",
        "\n",
        "    # 불확실한 예측 (낮은 확률) 확인\n",
        "    max_probs = [np.max(probs) for probs in test_probs]\n",
        "    uncertain_idx = np.argsort(max_probs)[:10]  # 확률이 가장 낮은 10개\n",
        "\n",
        "    print(\"\\nMost uncertain predictions:\")\n",
        "    for idx in uncertain_idx:\n",
        "        pred_cls = pred_labels[idx]\n",
        "        confidence = max_probs[idx] * 100\n",
        "        print(f\"ID: {ids[idx]}, Predicted: {pred_cls}, Confidence: {confidence:.2f}%\")"
      ],
      "metadata": {
        "colab": {
          "base_uri": "https://localhost:8080/",
          "height": 843
        },
        "id": "4d0qolmJ8i94",
        "outputId": "89ad50e7-d018-44b5-e8c5-4f16e85471ca"
      },
      "execution_count": null,
      "outputs": [
        {
          "output_type": "stream",
          "name": "stderr",
          "text": [
            "<ipython-input-17-d25c142c77e5>:56: FutureWarning: You are using `torch.load` with `weights_only=False` (the current default value), which uses the default pickle module implicitly. It is possible to construct malicious pickle data which will execute arbitrary code during unpickling (See https://github.com/pytorch/pytorch/blob/main/SECURITY.md#untrusted-models for more details). In a future release, the default value for `weights_only` will be flipped to `True`. This limits the functions that could be executed during unpickling. Arbitrary objects will no longer be allowed to be loaded via this mode unless they are explicitly allowlisted by the user via `torch.serialization.add_safe_globals`. We recommend you start setting `weights_only=True` for any use case where you don't have full control of the loaded file. Please open an issue on GitHub for any issues related to this experimental feature.\n",
            "  model.load_state_dict(torch.load('/content/drive/MyDrive/open/best_model.pth', map_location=device))\n"
          ]
        },
        {
          "output_type": "stream",
          "name": "stdout",
          "text": [
            "Best model loaded successfully.\n"
          ]
        },
        {
          "output_type": "stream",
          "name": "stderr",
          "text": [
            "Testing:   0%|          | 0/2969 [00:00<?, ?it/s]\n"
          ]
        },
        {
          "output_type": "error",
          "ename": "FileNotFoundError",
          "evalue": "Caught FileNotFoundError in DataLoader worker process 0.\nOriginal Traceback (most recent call last):\n  File \"/usr/local/lib/python3.11/dist-packages/torch/utils/data/_utils/worker.py\", line 351, in _worker_loop\n    data = fetcher.fetch(index)  # type: ignore[possibly-undefined]\n           ^^^^^^^^^^^^^^^^^^^^\n  File \"/usr/local/lib/python3.11/dist-packages/torch/utils/data/_utils/fetch.py\", line 52, in fetch\n    data = [self.dataset[idx] for idx in possibly_batched_index]\n           ^^^^^^^^^^^^^^^^^^^^^^^^^^^^^^^^^^^^^^^^^^^^^^^^^^^^^\n  File \"/usr/local/lib/python3.11/dist-packages/torch/utils/data/_utils/fetch.py\", line 52, in <listcomp>\n    data = [self.dataset[idx] for idx in possibly_batched_index]\n            ~~~~~~~~~~~~^^^^^\n  File \"<ipython-input-17-d25c142c77e5>\", line 31, in __getitem__\n    image = Image.open(self.image_paths[idx]).convert('RGB')\n            ^^^^^^^^^^^^^^^^^^^^^^^^^^^^^^^^^\n  File \"/usr/local/lib/python3.11/dist-packages/PIL/Image.py\", line 3465, in open\n    fp = builtins.open(filename, \"rb\")\n         ^^^^^^^^^^^^^^^^^^^^^^^^^^^^^\nFileNotFoundError: [Errno 2] No such file or directory: '/content/local_test/TEST_00000.jpg'\n",
          "traceback": [
            "\u001b[0;31m---------------------------------------------------------------------------\u001b[0m",
            "\u001b[0;31mFileNotFoundError\u001b[0m                         Traceback (most recent call last)",
            "\u001b[0;32m<ipython-input-17-d25c142c77e5>\u001b[0m in \u001b[0;36m<cell line: 0>\u001b[0;34m()\u001b[0m\n\u001b[1;32m     65\u001b[0m \u001b[0;34m\u001b[0m\u001b[0m\n\u001b[1;32m     66\u001b[0m \u001b[0;32mwith\u001b[0m \u001b[0mtorch\u001b[0m\u001b[0;34m.\u001b[0m\u001b[0mno_grad\u001b[0m\u001b[0;34m(\u001b[0m\u001b[0;34m)\u001b[0m\u001b[0;34m:\u001b[0m\u001b[0;34m\u001b[0m\u001b[0;34m\u001b[0m\u001b[0m\n\u001b[0;32m---> 67\u001b[0;31m     \u001b[0;32mfor\u001b[0m \u001b[0mbatch\u001b[0m \u001b[0;32min\u001b[0m \u001b[0mtqdm\u001b[0m\u001b[0;34m(\u001b[0m\u001b[0mtest_loader\u001b[0m\u001b[0;34m,\u001b[0m \u001b[0mdesc\u001b[0m\u001b[0;34m=\u001b[0m\u001b[0;34m\"Testing\"\u001b[0m\u001b[0;34m)\u001b[0m\u001b[0;34m:\u001b[0m\u001b[0;34m\u001b[0m\u001b[0;34m\u001b[0m\u001b[0m\n\u001b[0m\u001b[1;32m     68\u001b[0m         \u001b[0;32mif\u001b[0m \u001b[0mtest_labels\u001b[0m \u001b[0;32mis\u001b[0m \u001b[0;32mnot\u001b[0m \u001b[0;32mNone\u001b[0m\u001b[0;34m:\u001b[0m\u001b[0;34m\u001b[0m\u001b[0;34m\u001b[0m\u001b[0m\n\u001b[1;32m     69\u001b[0m             \u001b[0mimages\u001b[0m\u001b[0;34m,\u001b[0m \u001b[0mbatch_ids\u001b[0m\u001b[0;34m,\u001b[0m \u001b[0mlabels\u001b[0m \u001b[0;34m=\u001b[0m \u001b[0mbatch\u001b[0m\u001b[0;34m\u001b[0m\u001b[0;34m\u001b[0m\u001b[0m\n",
            "\u001b[0;32m/usr/local/lib/python3.11/dist-packages/tqdm/std.py\u001b[0m in \u001b[0;36m__iter__\u001b[0;34m(self)\u001b[0m\n\u001b[1;32m   1179\u001b[0m \u001b[0;34m\u001b[0m\u001b[0m\n\u001b[1;32m   1180\u001b[0m         \u001b[0;32mtry\u001b[0m\u001b[0;34m:\u001b[0m\u001b[0;34m\u001b[0m\u001b[0;34m\u001b[0m\u001b[0m\n\u001b[0;32m-> 1181\u001b[0;31m             \u001b[0;32mfor\u001b[0m \u001b[0mobj\u001b[0m \u001b[0;32min\u001b[0m \u001b[0miterable\u001b[0m\u001b[0;34m:\u001b[0m\u001b[0;34m\u001b[0m\u001b[0;34m\u001b[0m\u001b[0m\n\u001b[0m\u001b[1;32m   1182\u001b[0m                 \u001b[0;32myield\u001b[0m \u001b[0mobj\u001b[0m\u001b[0;34m\u001b[0m\u001b[0;34m\u001b[0m\u001b[0m\n\u001b[1;32m   1183\u001b[0m                 \u001b[0;31m# Update and possibly print the progressbar.\u001b[0m\u001b[0;34m\u001b[0m\u001b[0;34m\u001b[0m\u001b[0m\n",
            "\u001b[0;32m/usr/local/lib/python3.11/dist-packages/torch/utils/data/dataloader.py\u001b[0m in \u001b[0;36m__next__\u001b[0;34m(self)\u001b[0m\n\u001b[1;32m    699\u001b[0m                 \u001b[0;31m# TODO(https://github.com/pytorch/pytorch/issues/76750)\u001b[0m\u001b[0;34m\u001b[0m\u001b[0;34m\u001b[0m\u001b[0m\n\u001b[1;32m    700\u001b[0m                 \u001b[0mself\u001b[0m\u001b[0;34m.\u001b[0m\u001b[0m_reset\u001b[0m\u001b[0;34m(\u001b[0m\u001b[0;34m)\u001b[0m  \u001b[0;31m# type: ignore[call-arg]\u001b[0m\u001b[0;34m\u001b[0m\u001b[0;34m\u001b[0m\u001b[0m\n\u001b[0;32m--> 701\u001b[0;31m             \u001b[0mdata\u001b[0m \u001b[0;34m=\u001b[0m \u001b[0mself\u001b[0m\u001b[0;34m.\u001b[0m\u001b[0m_next_data\u001b[0m\u001b[0;34m(\u001b[0m\u001b[0;34m)\u001b[0m\u001b[0;34m\u001b[0m\u001b[0;34m\u001b[0m\u001b[0m\n\u001b[0m\u001b[1;32m    702\u001b[0m             \u001b[0mself\u001b[0m\u001b[0;34m.\u001b[0m\u001b[0m_num_yielded\u001b[0m \u001b[0;34m+=\u001b[0m \u001b[0;36m1\u001b[0m\u001b[0;34m\u001b[0m\u001b[0;34m\u001b[0m\u001b[0m\n\u001b[1;32m    703\u001b[0m             if (\n",
            "\u001b[0;32m/usr/local/lib/python3.11/dist-packages/torch/utils/data/dataloader.py\u001b[0m in \u001b[0;36m_next_data\u001b[0;34m(self)\u001b[0m\n\u001b[1;32m   1463\u001b[0m             \u001b[0;32melse\u001b[0m\u001b[0;34m:\u001b[0m\u001b[0;34m\u001b[0m\u001b[0;34m\u001b[0m\u001b[0m\n\u001b[1;32m   1464\u001b[0m                 \u001b[0;32mdel\u001b[0m \u001b[0mself\u001b[0m\u001b[0;34m.\u001b[0m\u001b[0m_task_info\u001b[0m\u001b[0;34m[\u001b[0m\u001b[0midx\u001b[0m\u001b[0;34m]\u001b[0m\u001b[0;34m\u001b[0m\u001b[0;34m\u001b[0m\u001b[0m\n\u001b[0;32m-> 1465\u001b[0;31m                 \u001b[0;32mreturn\u001b[0m \u001b[0mself\u001b[0m\u001b[0;34m.\u001b[0m\u001b[0m_process_data\u001b[0m\u001b[0;34m(\u001b[0m\u001b[0mdata\u001b[0m\u001b[0;34m)\u001b[0m\u001b[0;34m\u001b[0m\u001b[0;34m\u001b[0m\u001b[0m\n\u001b[0m\u001b[1;32m   1466\u001b[0m \u001b[0;34m\u001b[0m\u001b[0m\n\u001b[1;32m   1467\u001b[0m     \u001b[0;32mdef\u001b[0m \u001b[0m_try_put_index\u001b[0m\u001b[0;34m(\u001b[0m\u001b[0mself\u001b[0m\u001b[0;34m)\u001b[0m\u001b[0;34m:\u001b[0m\u001b[0;34m\u001b[0m\u001b[0;34m\u001b[0m\u001b[0m\n",
            "\u001b[0;32m/usr/local/lib/python3.11/dist-packages/torch/utils/data/dataloader.py\u001b[0m in \u001b[0;36m_process_data\u001b[0;34m(self, data)\u001b[0m\n\u001b[1;32m   1489\u001b[0m         \u001b[0mself\u001b[0m\u001b[0;34m.\u001b[0m\u001b[0m_try_put_index\u001b[0m\u001b[0;34m(\u001b[0m\u001b[0;34m)\u001b[0m\u001b[0;34m\u001b[0m\u001b[0;34m\u001b[0m\u001b[0m\n\u001b[1;32m   1490\u001b[0m         \u001b[0;32mif\u001b[0m \u001b[0misinstance\u001b[0m\u001b[0;34m(\u001b[0m\u001b[0mdata\u001b[0m\u001b[0;34m,\u001b[0m \u001b[0mExceptionWrapper\u001b[0m\u001b[0;34m)\u001b[0m\u001b[0;34m:\u001b[0m\u001b[0;34m\u001b[0m\u001b[0;34m\u001b[0m\u001b[0m\n\u001b[0;32m-> 1491\u001b[0;31m             \u001b[0mdata\u001b[0m\u001b[0;34m.\u001b[0m\u001b[0mreraise\u001b[0m\u001b[0;34m(\u001b[0m\u001b[0;34m)\u001b[0m\u001b[0;34m\u001b[0m\u001b[0;34m\u001b[0m\u001b[0m\n\u001b[0m\u001b[1;32m   1492\u001b[0m         \u001b[0;32mreturn\u001b[0m \u001b[0mdata\u001b[0m\u001b[0;34m\u001b[0m\u001b[0;34m\u001b[0m\u001b[0m\n\u001b[1;32m   1493\u001b[0m \u001b[0;34m\u001b[0m\u001b[0m\n",
            "\u001b[0;32m/usr/local/lib/python3.11/dist-packages/torch/_utils.py\u001b[0m in \u001b[0;36mreraise\u001b[0;34m(self)\u001b[0m\n\u001b[1;32m    713\u001b[0m             \u001b[0;31m# instantiate since we don't know how to\u001b[0m\u001b[0;34m\u001b[0m\u001b[0;34m\u001b[0m\u001b[0m\n\u001b[1;32m    714\u001b[0m             \u001b[0;32mraise\u001b[0m \u001b[0mRuntimeError\u001b[0m\u001b[0;34m(\u001b[0m\u001b[0mmsg\u001b[0m\u001b[0;34m)\u001b[0m \u001b[0;32mfrom\u001b[0m \u001b[0;32mNone\u001b[0m\u001b[0;34m\u001b[0m\u001b[0;34m\u001b[0m\u001b[0m\n\u001b[0;32m--> 715\u001b[0;31m         \u001b[0;32mraise\u001b[0m \u001b[0mexception\u001b[0m\u001b[0;34m\u001b[0m\u001b[0;34m\u001b[0m\u001b[0m\n\u001b[0m\u001b[1;32m    716\u001b[0m \u001b[0;34m\u001b[0m\u001b[0m\n\u001b[1;32m    717\u001b[0m \u001b[0;34m\u001b[0m\u001b[0m\n",
            "\u001b[0;31mFileNotFoundError\u001b[0m: Caught FileNotFoundError in DataLoader worker process 0.\nOriginal Traceback (most recent call last):\n  File \"/usr/local/lib/python3.11/dist-packages/torch/utils/data/_utils/worker.py\", line 351, in _worker_loop\n    data = fetcher.fetch(index)  # type: ignore[possibly-undefined]\n           ^^^^^^^^^^^^^^^^^^^^\n  File \"/usr/local/lib/python3.11/dist-packages/torch/utils/data/_utils/fetch.py\", line 52, in fetch\n    data = [self.dataset[idx] for idx in possibly_batched_index]\n           ^^^^^^^^^^^^^^^^^^^^^^^^^^^^^^^^^^^^^^^^^^^^^^^^^^^^^\n  File \"/usr/local/lib/python3.11/dist-packages/torch/utils/data/_utils/fetch.py\", line 52, in <listcomp>\n    data = [self.dataset[idx] for idx in possibly_batched_index]\n            ~~~~~~~~~~~~^^^^^\n  File \"<ipython-input-17-d25c142c77e5>\", line 31, in __getitem__\n    image = Image.open(self.image_paths[idx]).convert('RGB')\n            ^^^^^^^^^^^^^^^^^^^^^^^^^^^^^^^^^\n  File \"/usr/local/lib/python3.11/dist-packages/PIL/Image.py\", line 3465, in open\n    fp = builtins.open(filename, \"rb\")\n         ^^^^^^^^^^^^^^^^^^^^^^^^^^^^^\nFileNotFoundError: [Errno 2] No such file or directory: '/content/local_test/TEST_00000.jpg'\n"
          ]
        }
      ]
    },
    {
      "cell_type": "code",
      "source": [
        "import pandas as pd\n",
        "import os\n",
        "import glob\n",
        "\n",
        "# 배치 결과 파일들이 있는 디렉토리\n",
        "batch_results_dir = '/content/drive/MyDrive/open/batch_results'\n",
        "\n",
        "# 모든 배치 결과 파일 찾기\n",
        "batch_files = glob.glob(os.path.join(batch_results_dir, 'predictions_batch_*.csv'))\n",
        "print(f\"Found {len(batch_files)} batch result files\")\n",
        "\n",
        "# 모든 파일 통합\n",
        "all_predictions = []\n",
        "for file in batch_files:\n",
        "    try:\n",
        "        # 각 배치 파일 읽기\n",
        "        df = pd.read_csv(file)\n",
        "        # ID와 label 열만 선택\n",
        "        df = df[['ID', 'label']]\n",
        "        all_predictions.append(df)\n",
        "        print(f\"Loaded {file} with {len(df)} entries\")\n",
        "    except Exception as e:\n",
        "        print(f\"Error loading {file}: {e}\")\n",
        "\n",
        "# 모든 데이터프레임 합치기\n",
        "if all_predictions:\n",
        "    final_df = pd.concat(all_predictions, ignore_index=True)\n",
        "    print(f\"Combined dataframe has {len(final_df)} entries\")\n",
        "\n",
        "    # 열 이름 변경: 'label' -> 'rock_type'\n",
        "    final_df = final_df.rename(columns={'label': 'rock_type'})\n",
        "\n",
        "    # 최종 제출 파일 저장\n",
        "    submission_path = '/content/drive/MyDrive/open/final_submission.csv'\n",
        "    final_df.to_csv(submission_path, index=False)\n",
        "    print(f\"Final submission saved to: {submission_path}\")\n",
        "\n",
        "    # 샘플 데이터 출력\n",
        "    print(\"\\n첫 5개 예측:\")\n",
        "    print(final_df.head())\n",
        "else:\n",
        "    print(\"No prediction files were found or loaded.\")"
      ],
      "metadata": {
        "id": "1MXm6U71lkEr"
      },
      "execution_count": null,
      "outputs": []
    }
  ]
}